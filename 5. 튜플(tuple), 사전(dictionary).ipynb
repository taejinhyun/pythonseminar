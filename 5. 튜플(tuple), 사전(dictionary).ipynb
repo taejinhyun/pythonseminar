{
 "cells": [
  {
   "cell_type": "markdown",
   "metadata": {},
   "source": [
    "# 5. 튜플(tuple), 사전(dictionary)"
   ]
  },
  {
   "cell_type": "markdown",
   "metadata": {},
   "source": [
    "## 1) 튜플\n",
    "튜플(tuple)은 수학적 개념인 순서쌍을 구현한 자료구조이다.\n",
    "튜플을 생성하는 방법은 `[]` 대신 `()`를 사용한다는 점을 제외하면 리스트와 동일하다.\n",
    "튜플도 인덱스를 이용해서 저장된 값에 접근한다.\n",
    "튜플과 리스트의 가장 큰 차이점은 리스트는 `mutable`하지만 튜플은 `immutable`하다는 것이다.\n",
    "따라서 일단 생성된 튜플은 수정할 수 없다.\n",
    "즉 값을 수정하거나 추가하거나 삭제할 수 없다."
   ]
  },
  {
   "cell_type": "code",
   "execution_count": 8,
   "metadata": {},
   "outputs": [
    {
     "name": "stdout",
     "output_type": "stream",
     "text": [
      "<class 'tuple'>\n",
      "('string', 123, 12)\n"
     ]
    }
   ],
   "source": [
    "obj = ('string', 123, 12)\n",
    "print(type(obj))\n",
    "print(obj)"
   ]
  },
  {
   "cell_type": "code",
   "execution_count": 9,
   "metadata": {},
   "outputs": [
    {
     "name": "stdout",
     "output_type": "stream",
     "text": [
      "123\n",
      "('string', 123)\n",
      "True\n"
     ]
    }
   ],
   "source": [
    "print(obj[1])\n",
    "print(obj[:2])\n",
    "print(123 in obj)"
   ]
  },
  {
   "cell_type": "code",
   "execution_count": 10,
   "metadata": {},
   "outputs": [
    {
     "name": "stdout",
     "output_type": "stream",
     "text": [
      "string\n",
      "123\n",
      "12\n"
     ]
    }
   ],
   "source": [
    "for value in obj:\n",
    "    print(value)"
   ]
  },
  {
   "cell_type": "code",
   "execution_count": 11,
   "metadata": {},
   "outputs": [
    {
     "name": "stdout",
     "output_type": "stream",
     "text": [
      "3\n",
      "1\n",
      "1\n"
     ]
    }
   ],
   "source": [
    "print(len(obj))\n",
    "print(obj.count(123))\n",
    "print(obj.index(123))"
   ]
  },
  {
   "cell_type": "code",
   "execution_count": 12,
   "metadata": {},
   "outputs": [
    {
     "ename": "TypeError",
     "evalue": "'tuple' object does not support item assignment",
     "output_type": "error",
     "traceback": [
      "\u001b[1;31m---------------------------------------------------------------------------\u001b[0m",
      "\u001b[1;31mTypeError\u001b[0m                                 Traceback (most recent call last)",
      "\u001b[1;32m<ipython-input-12-0e723a6fcb2f>\u001b[0m in \u001b[0;36m<module>\u001b[1;34m()\u001b[0m\n\u001b[1;32m----> 1\u001b[1;33m \u001b[0mheam\u001b[0m\u001b[1;33m[\u001b[0m\u001b[1;36m0\u001b[0m\u001b[1;33m]\u001b[0m \u001b[1;33m=\u001b[0m \u001b[1;34m'Charles Darwin'\u001b[0m\u001b[1;33m\u001b[0m\u001b[0m\n\u001b[0m\u001b[0;32m      2\u001b[0m \u001b[0mheam\u001b[0m\u001b[1;33m.\u001b[0m\u001b[0mappend\u001b[0m\u001b[1;33m(\u001b[0m\u001b[1;36m30\u001b[0m\u001b[1;33m)\u001b[0m\u001b[1;33m\u001b[0m\u001b[0m\n",
      "\u001b[1;31mTypeError\u001b[0m: 'tuple' object does not support item assignment"
     ]
    }
   ],
   "source": [
    "heam[0] = 'Charles Darwin'\n",
    "heam.append(30)"
   ]
  },
  {
   "cell_type": "code",
   "execution_count": 15,
   "metadata": {},
   "outputs": [
    {
     "name": "stdout",
     "output_type": "stream",
     "text": [
      "('string', 123, 12, 'string', 123, 12)\n",
      "('string', 123, 12, 'string', 123, 12, 'string', 123, 12)\n",
      "('string', 123, 12)\n"
     ]
    }
   ],
   "source": [
    "print(obj + obj)\n",
    "print(obj * 3)\n",
    "print(obj)"
   ]
  },
  {
   "cell_type": "markdown",
   "metadata": {},
   "source": [
    "## 2) 패킹(packing)\n",
    "\n",
    "여러 값을 한 변수에 저장하면 해당 변수는 모든 값을 저장한 튜플이 된다.\n",
    "이런 연산을 패킹이라 한다."
   ]
  },
  {
   "cell_type": "code",
   "execution_count": 16,
   "metadata": {},
   "outputs": [
    {
     "name": "stdout",
     "output_type": "stream",
     "text": [
      "<class 'tuple'>\n",
      "('taejin hyun', 'GNU', 12345, 3.141592)\n"
     ]
    }
   ],
   "source": [
    "pack = 'taejin' + ' ' + 'hyun', 'GNU', 12345, 3.141592\n",
    "print(type(pack))\n",
    "print(pack)"
   ]
  },
  {
   "cell_type": "markdown",
   "metadata": {},
   "source": [
    "## 3) Example 1"
   ]
  },
  {
   "cell_type": "markdown",
   "metadata": {},
   "source": [
    "1. 다음 패킹 또는 언패킹의 결과를 예상해보시오.\n",
    "    * `a, b = \"XY\"`\n",
    "    * `a, b = range(1, 10, 3)`\n",
    "    * `a, *b = 1, 2, 3, 4, 5, 6`\n",
    "    * `a, *b, c = 1, 2, 3, 4, 5, 6`\n",
    "    * `a, *b = \"X\"`\n",
    "    * `a, *b, c = \"XY\"`\n",
    "    * `*a, b = [1]`"
   ]
  },
  {
   "cell_type": "markdown",
   "metadata": {},
   "source": [
    "## 4) 사전(dictionary)"
   ]
  },
  {
   "cell_type": "markdown",
   "metadata": {},
   "source": [
    "이와 달리 사전(dict, dictionary)은 값이 저장된 순서에 아무런 의미를 두지 않는다. 사전은 값을 저장할 때 이 값에 접근하기 위해 인덱스 대신 사용할 것을 같이 저장하는 자료구조이다. 값에 접근하기 위해 것을 키(key)라고 한다. 사전은 인덱스 대신 키로 값에 접근하는 자료구조라고 할 수 있다.\n",
    "```python\n",
    "tmp_dict={key:value, key:value...}\n",
    "```"
   ]
  },
  {
   "cell_type": "code",
   "execution_count": 32,
   "metadata": {},
   "outputs": [
    {
     "name": "stdout",
     "output_type": "stream",
     "text": [
      "<class 'dict'>\n",
      "{'0728': 'seminar', '0729': ['sleeping', 'shopping'], '0730': ('sleeping', 'diner'), '0731': {0, 2, 3}}\n"
     ]
    }
   ],
   "source": [
    "schedule_dict = {'0728': 'seminar', '0729':['sleeping','shopping'], '0730':('sleeping','diner'), '0731':{0,2,3}}\n",
    "print(type(schedule_dict))\n",
    "print(schedule_dict)"
   ]
  },
  {
   "cell_type": "code",
   "execution_count": 34,
   "metadata": {},
   "outputs": [
    {
     "name": "stdout",
     "output_type": "stream",
     "text": [
      "{'0728': 'seminar', '0729': ['sleeping', 'shopping'], '0730': ('sleeping', 'diner'), '0731': {0, 2, 3}, '0801': 'new_month'}\n"
     ]
    }
   ],
   "source": [
    "schedule_dict['0801']='new_month'\n",
    "print(schedule_dict)"
   ]
  },
  {
   "cell_type": "code",
   "execution_count": 35,
   "metadata": {},
   "outputs": [
    {
     "ename": "TypeError",
     "evalue": "unhashable type: 'list'",
     "output_type": "error",
     "traceback": [
      "\u001b[1;31m---------------------------------------------------------------------------\u001b[0m",
      "\u001b[1;31mTypeError\u001b[0m                                 Traceback (most recent call last)",
      "\u001b[1;32m<ipython-input-35-a33b95a67d59>\u001b[0m in \u001b[0;36m<module>\u001b[1;34m()\u001b[0m\n\u001b[1;32m----> 1\u001b[1;33m \u001b[0mschedule_dict\u001b[0m\u001b[1;33m[\u001b[0m\u001b[1;33m[\u001b[0m\u001b[1;36m123\u001b[0m\u001b[1;33m]\u001b[0m\u001b[1;33m]\u001b[0m\u001b[1;33m=\u001b[0m\u001b[1;34m'list'\u001b[0m\u001b[1;33m\u001b[0m\u001b[0m\n\u001b[0m",
      "\u001b[1;31mTypeError\u001b[0m: unhashable type: 'list'"
     ]
    }
   ],
   "source": [
    "schedule_dict[[123]]='list'"
   ]
  },
  {
   "cell_type": "code",
   "execution_count": 36,
   "metadata": {},
   "outputs": [
    {
     "name": "stdout",
     "output_type": "stream",
     "text": [
      "{'0728': 'seminar', '0729': ['sleeping', 'shopping'], '0730': ('sleeping', 'diner'), '0731': 'sleeping', '0801': 'new_month'}\n"
     ]
    }
   ],
   "source": [
    "schedule_dict['0731']='sleeping'\n",
    "print(schedule_dict)"
   ]
  },
  {
   "cell_type": "code",
   "execution_count": 37,
   "metadata": {},
   "outputs": [
    {
     "name": "stdout",
     "output_type": "stream",
     "text": [
      "new_month\n"
     ]
    }
   ],
   "source": [
    "print(schedule_dict['0801'])"
   ]
  },
  {
   "cell_type": "code",
   "execution_count": 38,
   "metadata": {
    "scrolled": true
   },
   "outputs": [
    {
     "name": "stdout",
     "output_type": "stream",
     "text": [
      "dict_keys(['0728', '0729', '0730', '0731', '0801'])\n",
      "dict_values(['seminar', ['sleeping', 'shopping'], ('sleeping', 'diner'), 'sleeping', 'new_month'])\n"
     ]
    }
   ],
   "source": [
    "print(schedule_dict.keys())\n",
    "print(schedule_dict.values())"
   ]
  },
  {
   "cell_type": "code",
   "execution_count": 39,
   "metadata": {},
   "outputs": [
    {
     "name": "stdout",
     "output_type": "stream",
     "text": [
      "0728\n",
      "0729\n",
      "0730\n",
      "0731\n",
      "0801\n"
     ]
    }
   ],
   "source": [
    "for i in schedule_dict:\n",
    "    print(i)"
   ]
  },
  {
   "cell_type": "code",
   "execution_count": 43,
   "metadata": {},
   "outputs": [
    {
     "name": "stdout",
     "output_type": "stream",
     "text": [
      "seminar\n",
      "['sleeping', 'shopping']\n",
      "('sleeping', 'diner')\n",
      "sleeping\n",
      "new_month\n"
     ]
    }
   ],
   "source": [
    "for i in schedule_dict.values():\n",
    "    print(i)for i,j in enumerate(schedule_dict):\n",
    "    print(i,j)"
   ]
  },
  {
   "cell_type": "code",
   "execution_count": 41,
   "metadata": {
    "scrolled": true
   },
   "outputs": [
    {
     "name": "stdout",
     "output_type": "stream",
     "text": [
      "0 0728\n",
      "1 0729\n",
      "2 0730\n",
      "3 0731\n",
      "4 0801\n"
     ]
    }
   ],
   "source": [
    "for i,j in enumerate(schedule_dict):\n",
    "    print(i,j)"
   ]
  },
  {
   "cell_type": "code",
   "execution_count": 45,
   "metadata": {},
   "outputs": [
    {
     "name": "stdout",
     "output_type": "stream",
     "text": [
      "0728 :  seminar\n",
      "0729 :  ['sleeping', 'shopping']\n",
      "0730 :  ('sleeping', 'diner')\n",
      "0731 :  sleeping\n",
      "0801 :  new_month\n"
     ]
    }
   ],
   "source": [
    "for key, value in schedule_dict.items():\n",
    "    print(key, ': ', value)"
   ]
  },
  {
   "cell_type": "markdown",
   "metadata": {},
   "source": [
    "## 5) zip() 함수\n",
    "내장함수 zip()에 2개 이상의 자료구조 객체를 인자로 주면 각 자료구조 객체에 저장된 값을 순서대로 하나씩 결합한 튜플들이 저장된 자료구조를 얻을 수 있다."
   ]
  },
  {
   "cell_type": "code",
   "execution_count": 51,
   "metadata": {},
   "outputs": [
    {
     "name": "stdout",
     "output_type": "stream",
     "text": [
      "['0728', '0729', '0730', '0731', '0801']\n",
      "['seminar', ['sleeping', 'shopping'], ('sleeping', 'diner'), 'sleeping', 'new_month']\n"
     ]
    }
   ],
   "source": [
    "keys=list(schedule_dict.keys())\n",
    "values=list(schedule_dict.values())\n",
    "print(keys)\n",
    "print(values)"
   ]
  },
  {
   "cell_type": "code",
   "execution_count": 52,
   "metadata": {},
   "outputs": [
    {
     "name": "stdout",
     "output_type": "stream",
     "text": [
      "('0728', 'seminar')\n",
      "('0729', ['sleeping', 'shopping'])\n",
      "('0730', ('sleeping', 'diner'))\n",
      "('0731', 'sleeping')\n",
      "('0801', 'new_month')\n"
     ]
    }
   ],
   "source": [
    "for i in zip(keys,values):\n",
    "    print(i)"
   ]
  },
  {
   "cell_type": "code",
   "execution_count": 53,
   "metadata": {},
   "outputs": [
    {
     "name": "stdout",
     "output_type": "stream",
     "text": [
      "6 5\n"
     ]
    }
   ],
   "source": [
    "keys.append('0802')\n",
    "print(len(keys),len(values))"
   ]
  },
  {
   "cell_type": "code",
   "execution_count": 54,
   "metadata": {},
   "outputs": [
    {
     "name": "stdout",
     "output_type": "stream",
     "text": [
      "('0728', 'seminar')\n",
      "('0729', ['sleeping', 'shopping'])\n",
      "('0730', ('sleeping', 'diner'))\n",
      "('0731', 'sleeping')\n",
      "('0801', 'new_month')\n"
     ]
    }
   ],
   "source": [
    "for i in zip(keys,values):\n",
    "    print(i)"
   ]
  },
  {
   "cell_type": "markdown",
   "metadata": {},
   "source": [
    "## 6) Comprehension의 활용\n",
    "사전 자료구조에 대해서도 comprehension을 사용할 수 있다."
   ]
  },
  {
   "cell_type": "code",
   "execution_count": 61,
   "metadata": {},
   "outputs": [
    {
     "name": "stdout",
     "output_type": "stream",
     "text": [
      "{'0728': 'seminar', '0729': ['sleeping', 'shopping'], '0730': ('sleeping', 'diner'), '0731': 'sleeping', '0801': 'new_month'}\n"
     ]
    }
   ],
   "source": [
    "schedule = {key:value for key, value in zip(keys, values)}\n",
    "print(heam)"
   ]
  },
  {
   "cell_type": "markdown",
   "metadata": {},
   "source": [
    "## 7) Examples"
   ]
  },
  {
   "cell_type": "markdown",
   "metadata": {},
   "source": [
    "### a) Example 1\n",
    "아래 news_strings 객체는 신문기사 전체를 복사하여 문자열로 저장한 것이다. 객체 안의 글자 하나하나가 몇 번 나왔는지를 아래와 같은 형식으로 저장하는 word_count_dict 사전 객체를 최대한 짧은 코드로 저장하시오.\n",
    "```python\n",
    "{'된': 5, ' ': 505, '금': 13, '번': 1, '크': 1, '경': 1, '있': 4, '분': 3, '성': 11, '상': 6, '앞': 1, '영': 3, '윤': 2, '리': 8, '역': 7, '여': 2, '넘': 2, '궐': 1, '지': 20, '일': 6, '후': 3, ')': 3, '령': 14, '블': 1, '씨': 6, '각': 4, '절': 1, '난': 3, '들': 3, '당': 9, '행': 1, '날': 2, '업': 2 ...}\n",
    "```"
   ]
  },
  {
   "cell_type": "code",
   "execution_count": 87,
   "metadata": {
    "collapsed": true
   },
   "outputs": [],
   "source": [
    "news_strings='''\n",
    "\n",
    "(서울=연합뉴스) 고동욱 기자 = 20일 박근혜 전 대통령이 국정원 특활비 수수 사건과 옛 새누리당 공천 개입 사건으로 징역형을 선고받음에 따라, 총 21개에 달하는 박 전 대통령의 혐의 전체에 대한 1심 판단이 모두 마무리됐다.\n",
    "\n",
    "삼성의 제3자 뇌물 등 일부를 제외한 대부분 혐의를 유죄로 인정받은 박 전 대통령의 총 형량은 징역 32년에 이른다. 벌금 180억원과 추징금 33억원도 있다.\n",
    "\n",
    "국정농단 관련 사건으로 징역 24년과 벌금 180억원이 먼저 선고됐고 국정원 특활비 수수 사건으로 징역 6년과 추징금 33억원, 옛 새누리당 공천 개입 사건으로 징역 2년이 더해졌다.\n",
    "\n",
    "2016년 10월 '최순실 태블릿PC 보도'로 국정농단 정국이 시작된 이후 1심 판단이 끝나기까지 1년 9개월이 걸렸다.\n",
    "\n",
    "박 전 대통령은 검찰과 특검의 연이은 수사를 거쳐 국정농단 사건과 관련해 18개 혐의로 지난해 4월 구속기소 됐다.\n",
    "\n",
    "'비선실세' 최순실씨와 공모해 미르·K스포츠재단에 대기업들이 출연금을 내도록 한 혐의, 삼성전자 이재용 부회장으로부터 최씨 딸 정유라씨의 승마 지원비 등 433억원 상당의 뇌물을 받거나 요구한 혐의가 우선 적용됐다.\n",
    "\n",
    "그 외에 최씨의 이권을 위해 직권을 남용해 기업에 압력을 넣고, 문화·예술계 지원배제 명단을 작성 관리하도록 하고, 정호성 전 비서관을 시켜 최씨에게 정부 기밀문서를 유출한 혐의 등도 있다.\n",
    "\n",
    "1심 재판부는 대부분 혐의를 유죄로 판단했지만, 삼성그룹의 재단 출연금과 한국동계스포츠영재센터 지원금 등에 적용된 제3자 뇌물수수 혐의는 인정하지 않았다. 정유라씨에 대한 지원금 중 일부도 무죄로 판단했다.\n",
    "\n",
    "검찰은 재판부가 '경영권 승계를 위한 부정한 청탁'의 존재를 인정하지 않은 점에 불복해 항소했다.\n",
    "\n",
    "6월 시작된 국정농단 사건의 항소심 재판은 네 차례 정식 공판을 거쳐 20일 오전 마무리됐다. 검찰은 이날 1심 때와 같은 징역 30년과 벌금 1천185억원을 구형했다.\n",
    "\n",
    "\n",
    "박근혜 '국정원 특활비 상납' 선고 (PG)[제작 최자윤] 사진합성, 일러스트\n",
    "\n",
    "\n",
    "박 전 대통령에 대한 추가 수사는 국정농단 사건 1심 공판이 한창이던 지난해 10월 시작됐다.\n",
    "\n",
    "안봉근·이재만 전 비서관을 체포하고 남재준·이병기 전 국정원장을 대상으로 압수수색을 벌이며 수사의 신호탄을 쏘아 올린 검찰은 박근혜 전 대통령 시절 국정원이 청와대에 수십억원의 특수활동비를 상납한 사실을 밝혀냈다.\n",
    "\n",
    "검찰은 올해 1월 박 전 대통령이 상납받은 국정원 특수활동비에 대해 뇌물과 국고손실 혐의를 적용해 추가 기소했다.\n",
    "\n",
    "2013∼2016년 이재만·안봉근·정호성 전 비서관 등 '문고리 3인방'과 공모해 남재준·이병기·이병호 전 국정원장에게 총 35억원을 수수하고, 이원종 당시 비서실장에게도 1억5천만원을 지원하게 했다는 것이 추가된 혐의의 골자다.\n",
    "\n",
    "수사를 계속한 검찰은 박 전 대통령이 2016년 4·13 총선을 앞두고 당시 여당인 새누리당의 공천에 불법 개입한 혐의도 밝혀내고 2월 재판에 넘겼다.\n",
    "\n",
    "검찰은 당시 청와대가 친박계 인사들을 당선 가능성이 큰 지역구에 공천하기 위해 이른바 '진박 감정용' 불법 여론조사를 한 것으로 파악했다.\n",
    "\n",
    "1심 재판부는 이날 열린 선고 공판에서 국정원 특수활동비와 관련해 국고손실 등 혐의를, 공천 개입과 관련해 공직선거법 위반 혐의를 각각 유죄로 인정했다.\n",
    "\n",
    "다만 국정원 특수활동비를 수수한 것이 뇌물이라는 검찰 주장은 받아들이지 않았다.\n",
    "\n",
    "세 사건으로 박 전 대통령이 받은 혐의는 총 21개다. 이 가운데 1심 단계에서는 19개 혐의가 유죄로 인정됐다.\n",
    "\n",
    "국정농단 사건 중 삼성의 재단 출연금과 한국동계스포츠영재센터 지원금(각각 제3자 뇌물수수) 정도만 1심에서 인정되지 않은 혐의로 꼽힌다.\n",
    "\n",
    "세 사건 총 21개 혐의 기소…벌금 180억원·추징금 33억원 부과되었다.\n",
    "\n",
    "박 전 대통령의 혐의에 대한 판단은 이제 모두 2심으로 넘어가게 된다.\n",
    "\n",
    "가장 가까운 2심 선고는 국정농단 사건으로, 8월 24일 오전에 예정돼 있다.\n",
    "\n",
    "국정원 특활비 사건에 대해서는 1심 법원의 '뇌물 무죄' 판단에 반발하는 검찰이 항소를 공식화함.\n",
    "\n",
    "검찰 관계자는 선고 직후 \"조윤선·안봉근 등 대통령을 단순 보조하는 비서실 직원이 국정원장으로부터 받은 상대적으로 적은 돈은 뇌물이라면서 대통령 본인이 직접 지휘관계에 있는 국정원장에게 받은 수십억원은 대가성이 없어 뇌물이 아니라는 1심 선고를 수긍하기 어렵다\"며 항소하겠다고 밝혔다.\n",
    "\n",
    "반면 지난해 10월 구속이 연장되자 '재판 보이콧'을 선언한 이후 국정농단 사건도 항소하지 않았던 박 전 대통령은 이번에도 침묵을 지키리라는 분석이 많다.\n",
    "\n",
    "2심이 진행되더라도, 박 전 대통령은 출석하지 않는 '궐석 재판'이 이어질 가능성이 크다.'''\n"
   ]
  },
  {
   "cell_type": "markdown",
   "metadata": {},
   "source": [
    "### b) Example 2\n",
    "schedule에서 `'seminar'`(value)로 `'0728'`(key)를 찾는 가장 짧은 코드를 작성하시오."
   ]
  },
  {
   "cell_type": "markdown",
   "metadata": {},
   "source": [
    "### c) Example 3\n",
    "news_strings 객체에서 가장 많이 나오는 `' '`(빈칸), `\\n`(enter)를 제외하고 가장 많이 나온 글자 4개를 최대한 짧은 코드로 구하시오."
   ]
  },
  {
   "cell_type": "markdown",
   "metadata": {},
   "source": [
    "### d) Example 4\n",
    "공공기관 입찰가 선정을 위한 프로그램으로 다음 내용을 최대한 짧은 코드로 작성하시오.\n",
    "* 저번주 예제를 통해 600개의 가격이 들어있는 리스트를 구하였다.\n",
    "* 가격 중 가장 많이 나온 가격 4개의 평균이 최종 입찰가이다.\n",
    "* 입찰가를 구하여라"
   ]
  }
 ],
 "metadata": {
  "kernelspec": {
   "display_name": "Python 3",
   "language": "python",
   "name": "python3"
  },
  "language_info": {
   "codemirror_mode": {
    "name": "ipython",
    "version": 3
   },
   "file_extension": ".py",
   "mimetype": "text/x-python",
   "name": "python",
   "nbconvert_exporter": "python",
   "pygments_lexer": "ipython3",
   "version": "3.6.3"
  }
 },
 "nbformat": 4,
 "nbformat_minor": 2
}
