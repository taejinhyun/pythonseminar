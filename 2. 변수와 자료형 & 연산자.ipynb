{
 "cells": [
  {
   "cell_type": "markdown",
   "metadata": {},
   "source": [
    "# 2. 변수와 자료형 & 연산자"
   ]
  },
  {
   "cell_type": "markdown",
   "metadata": {},
   "source": [
    "## 1) 자료형\n",
    "\n",
    "파이썬을 비롯한 대부분의 프로그래밍 언어가 기본적으로 이해하고 처리할 수 있는 값은 **정수**(integer, int), **실수**(float), **문자열**(string, str), **논리값**(boolean) 4 종류이다.\n",
    "프로그래밍에서는 값의 종류를 **자료형**, **데이터 타입**(data type) 또는 간단히 **타입**(type)이라고 한다."
   ]
  },
  {
   "cell_type": "markdown",
   "metadata": {},
   "source": [
    "기본적인 타입과 자주 요구되는 타입들은 이미 만들어져 **프로그래밍 언어에 내장**(built-in)되어 있거나 **표준 라이브러리**(standard library)로 배포되고 있다.\n",
    "그렇지 않은 자료형은 프로그래머가 필요에 따라 만들어서 사용해야 한다."
   ]
  },
  {
   "cell_type": "markdown",
   "metadata": {},
   "source": [
    "### a. int, float, str,boolean\n",
    "\n",
    "앞서 언급한 4가지 기본적인 데이터 타입이다. 간단하게 정수, 소수(부동소수), 문자열, 논리값(`TRUE, FALSE`)로 이해하면 된다."
   ]
  },
  {
   "cell_type": "markdown",
   "metadata": {},
   "source": [
    "### b. type(), print()"
   ]
  },
  {
   "cell_type": "markdown",
   "metadata": {},
   "source": [
    "type() 함수는 python이 제공하는 기본 함수로 변수, 값의 데이터 타입을 확인할 수 있다.\n",
    "또한 print() 함수 역시 python이 제공하는 기본 함수로 원하는 것을 출력하는 사용빈도가 아주 높은 함수이다.\n",
    "\n",
    "python 2.## 버전에서는 \n",
    "\n",
    "```\n",
    "ln [1]: print'Hello, Python!!!'\n",
    "``` \n",
    "그 이상의 버전에서는\n",
    "```\n",
    "ln [2]: print('안녕 파이썬!!!')\n",
    "```\n",
    "이 처럼 사용한다."
   ]
  },
  {
   "cell_type": "code",
   "execution_count": 2,
   "metadata": {},
   "outputs": [
    {
     "name": "stdout",
     "output_type": "stream",
     "text": [
      "<class 'int'>\n",
      "<class 'float'>\n",
      "<class 'str'>\n",
      "<class 'str'>\n",
      "<class 'str'>\n",
      "<class 'bool'>\n"
     ]
    }
   ],
   "source": [
    "print(type(123))\n",
    "print(type(3.4))\n",
    "print(type('3.4'))\n",
    "print(type(\"3.4\"))\n",
    "print(type(''' 3.\n",
    "4'''))\n",
    "print(type(True))"
   ]
  },
  {
   "cell_type": "code",
   "execution_count": 7,
   "metadata": {},
   "outputs": [
    {
     "name": "stdout",
     "output_type": "stream",
     "text": [
      "True\n",
      "True\n",
      "False\n",
      "False\n"
     ]
    }
   ],
   "source": [
    "print(bool(1234))\n",
    "print(bool('hi'))\n",
    "print(bool(0))\n",
    "print(bool(''))"
   ]
  },
  {
   "cell_type": "markdown",
   "metadata": {},
   "source": [
    "위의 예처럼 type() 함수를 사용하면 원하는 값, 변수의 데이터 타입을 확인 할 수 있다.\n",
    "문자열의 경우 '', \"\" 작은, 큰 따옴표 모두 사용가능하며 ''' '''은 여러줄의 문자열을 입력할 수 있다.\n",
    "'',\"\" 모두 사용가능하나 **가능한 일관성있게 사용하는 것을 권장**하며 두 개 다 사용해야 할 경우 아래와 같이 사용한다."
   ]
  },
  {
   "cell_type": "code",
   "execution_count": 6,
   "metadata": {},
   "outputs": [
    {
     "name": "stdout",
     "output_type": "stream",
     "text": [
      "\"THIS\" is example\n",
      "'THIS' is example\n"
     ]
    }
   ],
   "source": [
    "print('\"THIS\" is example')\n",
    "print(\"'THIS' is example\")"
   ]
  },
  {
   "cell_type": "markdown",
   "metadata": {
    "collapsed": true
   },
   "source": [
    "## 2) 변수"
   ]
  },
  {
   "cell_type": "markdown",
   "metadata": {},
   "source": [
    "프로그램을 작성할 때 프로그램 곳곳에 값을 직접 기재하는 것은 바람직하지 않다.\n",
    "값이 크거나 복잡할 경우 오류를 범하기 쉽고 다른 값으로 변경해야 할 경우에도 번거롭다.\n",
    "특히 동일한 값을 프로그램 여러 곳에 기재해야 하는 경우에는 더욱 그러하다.\n",
    "\n",
    "수학에서와 같이 변수를 만들어서 값을 저장하고 프로그램은 변수를 사용해서 작성하는 것이 좋다.\n",
    "변수에 값을 저장할 때 외에 값을 기재하는 것은 반드시 피해야 할 프로그래밍의 기본이다."
   ]
  },
  {
   "cell_type": "markdown",
   "metadata": {},
   "source": [
    "### <span style=\"color:red\">a. 변수 이름 작성"
   ]
  },
  {
   "cell_type": "markdown",
   "metadata": {},
   "source": [
    "개인적으로 가장 강조하고 싶은 부분이다. 처음 프로그래밍을 배우고 혼자 작게 프로그램을 작성할 때는 크게 신경 쓰지 않고 중요하지 않을 수도 있다. 하지만 팀으로 프로그램을 짜고 혼자 프로그램을 작성하더라도 그 규모가 커졌을 때 변수 이름이 엉망이면 변수 안에 어떤 값이 있는지 어떤 타입인지 팀원은 물론 자신까지 햇갈리는 경우가 많다. 그 경우 다시 선언 된 부분을 확인해야하며 변수가 값을 통한 선언이 아닌 동적으로 이루어졌을 경우 번거로운 상황이 발생한다."
   ]
  },
  {
   "cell_type": "markdown",
   "metadata": {},
   "source": [
    " <span style=\"color:red\">따라서 변수 이름은 반드시 규칙에 맞추어 작성해야하며 간단하면서도 안의 값의 의미와 더불어 데이터 타입까지 한 눈에 알아볼 수 있다면 좋은 변수 이름이 될 것이다."
   ]
  },
  {
   "cell_type": "markdown",
   "metadata": {},
   "source": [
    "규칙\n",
    "\n",
    "1. 변수의 이름은 영문자 소문자와 대문자, 밑줄, 숫자로만 지어야 한다.\n",
    "2. 이름의 첫 글자는 숫자일 수 없다.\n"
   ]
  },
  {
   "cell_type": "markdown",
   "metadata": {},
   "source": [
    "### b. Example\n",
    "변수 선언 시 대입연산자, =을 사용한다. **이는 수학의 =과 같이 같다라는 의미로는 사용하지 않는다.** 같다라는 연산자는 ==이다."
   ]
  },
  {
   "cell_type": "code",
   "execution_count": 10,
   "metadata": {
    "scrolled": true
   },
   "outputs": [
    {
     "name": "stdout",
     "output_type": "stream",
     "text": [
      "capital letter\n",
      "small letter\n"
     ]
    }
   ],
   "source": [
    "num_students=6\n",
    "last_name='Hyun'\n",
    "first_name='Taejin'\n",
    "A='capital letter'\n",
    "a='small letter'\n",
    "print(A)\n",
    "print(a)"
   ]
  },
  {
   "cell_type": "markdown",
   "metadata": {},
   "source": [
    "위 예시의 변수 A,a와 같이 python 언어는 대소문자를 구별하는 언어이다. 대문자와 소문자를 구별하는 것을 `case-sensitive`하다고 한다.\n",
    "그러니까 파이썬은 `case-sensitive`한 프로그래밍 언어이다. 반면에 윈도우즈 운영체제의 명령 프롬프트는 `case-insensitive`하다."
   ]
  },
  {
   "cell_type": "markdown",
   "metadata": {},
   "source": [
    "## 3. 연산자"
   ]
  },
  {
   "cell_type": "markdown",
   "metadata": {},
   "source": [
    "### a. 표현식"
   ]
  },
  {
   "cell_type": "markdown",
   "metadata": {},
   "source": [
    "변수에 저장할 값을 계산해야 한다면 값을 계산하는 식을 대입 연산자 오른쪽에 써주면 된다.\n",
    "계산한 결과가 하나의 값이 되는 이런 식을 **표현식**(expression)이라 하는데, **표현식은 값, 변수, 연산자 등으로 구성된다**.\n",
    "수학 시간에 수식이라고 하는 것과 매우 유사하다.\n",
    "하지만 프로그래밍에서 표현식이라고 하는 이유는 식을 평가한 결과가 수치가 아닐 수도 있기 때문이다."
   ]
  },
  {
   "cell_type": "markdown",
   "metadata": {},
   "source": [
    "프로그램은 수치 뿐만 아니라 문자열이나 논리값 등도 처리하므로 사칙연산을 위한 **산술 연산자**(arithmatic operator) 외에도 **비교 연산자**(comparison operator), **논리 연산자**(logical operator) 등과 같은 연산자가 표현식에 사용된다."
   ]
  },
  {
   "cell_type": "markdown",
   "metadata": {},
   "source": [
    "### b. 산술 연산자"
   ]
  },
  {
   "cell_type": "markdown",
   "metadata": {},
   "source": [
    "산술 연산자는 수치의 연산에 사용되는 연산자로 `+`, `-`, `*`, `/`, `//`, `%`, `**` 등이다.\n",
    "이 연산자는 순서대로 덧셈, 뺄셈, 곱셈, 나눗셈, 나눗셈에서 몫 구하기, 나눗셈에서 나머지 구하기, 거듭제곱을 수행하는 연산자들이다."
   ]
  },
  {
   "cell_type": "code",
   "execution_count": 15,
   "metadata": {},
   "outputs": [
    {
     "name": "stdout",
     "output_type": "stream",
     "text": [
      "5/4의 값은 1.25, 몫은 1, 나머지는 1, 값의 제곱은 1.5625이다.\n"
     ]
    }
   ],
   "source": [
    "print('5/4의 값은 %s, 몫은 %s, 나머지는 %s, 값의 제곱은 %s이다.'%(5/4, 5//4, 5%4, (5/4)**2))"
   ]
  },
  {
   "cell_type": "markdown",
   "metadata": {},
   "source": [
    "위의 예와 같이 문자열 내 원하는 값이나, 이미 선언된 변수를 넣고 싶은 경우 원하는 곳에 문자열에 %s를 쓰고 문자열 선언이 끝나고 %뒤에 원하는 값, 변수를 작성하면 가능하다. "
   ]
  },
  {
   "cell_type": "code",
   "execution_count": 21,
   "metadata": {},
   "outputs": [
    {
     "name": "stdout",
     "output_type": "stream",
     "text": [
      "abc\n",
      "aaa\n"
     ]
    }
   ],
   "source": [
    "print('a'+'bc')\n",
    "print('a'*3)"
   ]
  },
  {
   "cell_type": "markdown",
   "metadata": {},
   "source": [
    "문자열 또한 +연산자, * 연산자가 사용가능하다."
   ]
  },
  {
   "cell_type": "markdown",
   "metadata": {},
   "source": [
    "### c. 논리 연산자"
   ]
  },
  {
   "cell_type": "markdown",
   "metadata": {},
   "source": [
    "and, or, note 3가지가 있으면 and는 두 논리값의 곱, or은 논리합을 계산해주며, not은 논리값을 반대로 만드는 연산자이다. "
   ]
  },
  {
   "cell_type": "code",
   "execution_count": 1,
   "metadata": {},
   "outputs": [
    {
     "name": "stdout",
     "output_type": "stream",
     "text": [
      "False\n"
     ]
    }
   ],
   "source": [
    "ans = True and False\n",
    "print(ans)"
   ]
  },
  {
   "cell_type": "code",
   "execution_count": 2,
   "metadata": {},
   "outputs": [
    {
     "name": "stdout",
     "output_type": "stream",
     "text": [
      "True\n"
     ]
    }
   ],
   "source": [
    "ans = True or False\n",
    "print(ans)"
   ]
  },
  {
   "cell_type": "code",
   "execution_count": 3,
   "metadata": {},
   "outputs": [
    {
     "name": "stdout",
     "output_type": "stream",
     "text": [
      "True\n"
     ]
    }
   ],
   "source": [
    "ans = not False\n",
    "print(ans)"
   ]
  },
  {
   "cell_type": "markdown",
   "metadata": {},
   "source": [
    "논리 연산자는 조건문에 자주 사용되며 두 개 이상의 조건을 결합하여 하나의 조건을 만들 때도 사용된다. 예를 들어 나이가 20세 이상이고(**and**) 월급이 200만원 이상이어야 회원 자격이 있다고 할 때 다음은 나이가 35세이고 월급이 195만원인 사람이 회원 자격이 있는지를 알아보는 예이다."
   ]
  },
  {
   "cell_type": "code",
   "execution_count": 4,
   "metadata": {},
   "outputs": [
    {
     "name": "stdout",
     "output_type": "stream",
     "text": [
      "False\n"
     ]
    }
   ],
   "source": [
    "lower_limit_age = 20\n",
    "lower_limit_salary = 2000000\n",
    "age = 35\n",
    "monthly_salary = 1950000\n",
    "is_eligible = (age >= lower_limit_age) and (monthly_salary >= lower_limit_salary)\n",
    "print(is_eligible)"
   ]
  },
  {
   "cell_type": "markdown",
   "metadata": {},
   "source": [
    "나이가 20세 이상이거나(**or**) 월급이 200만원 이상이어야 회원 자격이 있다고 할 때 회원 자격이 있는지는 다음과 같이 알아볼 수 있다."
   ]
  },
  {
   "cell_type": "code",
   "execution_count": 5,
   "metadata": {},
   "outputs": [
    {
     "name": "stdout",
     "output_type": "stream",
     "text": [
      "True\n"
     ]
    }
   ],
   "source": [
    "is_eligible = (age >= lower_limit_age) or (monthly_salary >= lower_limit_salary)\n",
    "print(is_eligible)"
   ]
  }
 ],
 "metadata": {
  "kernelspec": {
   "display_name": "Python 3",
   "language": "python",
   "name": "python3"
  },
  "language_info": {
   "codemirror_mode": {
    "name": "ipython",
    "version": 3
   },
   "file_extension": ".py",
   "mimetype": "text/x-python",
   "name": "python",
   "nbconvert_exporter": "python",
   "pygments_lexer": "ipython3",
   "version": "3.6.3"
  }
 },
 "nbformat": 4,
 "nbformat_minor": 2
}
