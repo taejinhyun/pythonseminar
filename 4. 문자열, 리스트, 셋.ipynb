{
 "cells": [
  {
   "cell_type": "markdown",
   "metadata": {},
   "source": [
    "# 4. 문자열, 리스트, 셋"
   ]
  },
  {
   "cell_type": "markdown",
   "metadata": {},
   "source": [
    "## 1) 문자열"
   ]
  },
  {
   "cell_type": "markdown",
   "metadata": {},
   "source": [
    "수학 시간에 배우는 **수의 열**(a seqence of numbers)인 **수열**과 유사하게 **문자의 열**(a sequence of characters)을 **문자열**이라고 한다.\n",
    "컴퓨터는 문자를 이진수로 변환하여 저장하고, 저장된 이진수를 다시 문자로 변환하여 화면에 나타낸다.\n",
    "문자를 이진수로 변환하는 것을 **암호화**(encoding)라고 하고 이진수를 다시 문자로 변환하는 것을 **복호화**(decoding)라고 한다.\n",
    "암호화하고 복호화하는 여러 가지 표준적인 방법이 있는데 가장 자주 사용하는 방법은 **아스키**(American Standard Code for Information Interchange, ASCII)와 **유니코드**(Unicode)이다.\n",
    "파이썬은 기본적으로 유니코드를 사용하기 때문에 파이썬에서 문자열은 유니코드의 열이다."
   ]
  },
  {
   "cell_type": "markdown",
   "metadata": {},
   "source": [
    "### a. 이스케이프 시퀀스(escape sequence)\n",
    "\n",
    "문자열에 엔터키(enter key, 줄의 끝을 나타내는 문자)나 탭키(tab key, 미리 설정된 위치로 이동하라는 표식의 문자) 또는 따옴표를 표함시키고 싶을 때 사용하는 특별한 문자열을 이스케이프 시퀀스라고 한다. 이스케이프 시퀀스는 역 슬래시(backslash) \\로 시작한다. 자주 사용하는 이스케이프 시퀀스는 \\n, \\t, \\\", \\', \\\\ 등인데 순서대로 엔터키, 탭키, 큰따옴표, 작은따옴표, 역슬래시이다."
   ]
  },
  {
   "cell_type": "code",
   "execution_count": 77,
   "metadata": {},
   "outputs": [
    {
     "name": "stdout",
     "output_type": "stream",
     "text": [
      "This is Brown's car\n"
     ]
    }
   ],
   "source": [
    "msg = 'This is Brown\\'s car'\n",
    "print(msg)"
   ]
  },
  {
   "cell_type": "markdown",
   "metadata": {},
   "source": [
    "### b.  `in` 연산자"
   ]
  },
  {
   "cell_type": "markdown",
   "metadata": {},
   "source": [
    "`in` 연산자를 사용하면 문자열 내에 특정 문자열이 포함되어 있는지 검사할 수 있다."
   ]
  },
  {
   "cell_type": "code",
   "execution_count": 78,
   "metadata": {},
   "outputs": [
    {
     "name": "stdout",
     "output_type": "stream",
     "text": [
      "True\n"
     ]
    }
   ],
   "source": [
    "test1 = 'Hello' in 'Hello World'\n",
    "print(test1)"
   ]
  },
  {
   "cell_type": "code",
   "execution_count": 79,
   "metadata": {
    "scrolled": true
   },
   "outputs": [
    {
     "name": "stdout",
     "output_type": "stream",
     "text": [
      "False\n"
     ]
    }
   ],
   "source": [
    "if 'hyun' in 'Hyuntaejin':\n",
    "    print(True)\n",
    "else:\n",
    "    print(False)"
   ]
  },
  {
   "cell_type": "markdown",
   "metadata": {},
   "source": [
    "### <font color=red> c. 인덱스와 슬라이싱"
   ]
  },
  {
   "cell_type": "markdown",
   "metadata": {},
   "source": [
    "#### a) 인덱스"
   ]
  },
  {
   "cell_type": "markdown",
   "metadata": {},
   "source": [
    "문자열, 리스트에서 가장 자주쓰고 중요한 개념이다. \n",
    "* index : 해당 문자의 위치의 개념 (python의 인덱스는 0부터 시작)"
   ]
  },
  {
   "cell_type": "code",
   "execution_count": 4,
   "metadata": {
    "collapsed": true
   },
   "outputs": [],
   "source": [
    "string='안녕하세요'"
   ]
  },
  {
   "cell_type": "code",
   "execution_count": 5,
   "metadata": {},
   "outputs": [
    {
     "name": "stdout",
     "output_type": "stream",
     "text": [
      "index : 0, string : 안\n",
      "index : 1, string : 녕\n",
      "index : 2, string : 하\n",
      "index : 3, string : 세\n",
      "index : 4, string : 요\n"
     ]
    }
   ],
   "source": [
    "for index,string in enumerate(string):\n",
    "    print('index : {}, string : {}'.format(index,string))"
   ]
  },
  {
   "cell_type": "markdown",
   "metadata": {},
   "source": [
    "주로 for문 다음 리스트나 문자열에 enumerate를 사용하면 해당 index와 값 두 개를 반환한다."
   ]
  },
  {
   "cell_type": "code",
   "execution_count": 6,
   "metadata": {},
   "outputs": [
    {
     "name": "stdout",
     "output_type": "stream",
     "text": [
      "index : 0, string : L\n",
      "index : 1, string : e\n",
      "index : 2, string : t\n",
      "index : 3, string : '\n",
      "index : 4, string : s\n",
      "index : 5, string :  \n",
      "index : 6, string : g\n",
      "index : 7, string : o\n",
      "index : 8, string :  \n",
      "index : 9, string : h\n",
      "index : 10, string : o\n",
      "index : 11, string : m\n",
      "index : 12, string : e\n"
     ]
    }
   ],
   "source": [
    "string='Let\\'s go home'\n",
    "for index,string in enumerate(string):\n",
    "    print('index : {}, string : {}'.format(index,string))"
   ]
  },
  {
   "cell_type": "code",
   "execution_count": 7,
   "metadata": {},
   "outputs": [
    {
     "name": "stdout",
     "output_type": "stream",
     "text": [
      "요\n"
     ]
    }
   ],
   "source": [
    "string='안녕하세요'\n",
    "negative_index=-1\n",
    "print(string[negative_index])"
   ]
  },
  {
   "cell_type": "markdown",
   "metadata": {},
   "source": [
    "#### b) 슬라이싱\n",
    "역시 리스트와 문자열에서 자주 사용되며 인덱스를 통해 원하는 값에 접근하는 방법이다."
   ]
  },
  {
   "cell_type": "code",
   "execution_count": 8,
   "metadata": {},
   "outputs": [
    {
     "name": "stdout",
     "output_type": "stream",
     "text": [
      "Let's go home\n",
      "Let's go home\n",
      "Let's go home\n"
     ]
    }
   ],
   "source": [
    "string='Let\\'s go home'\n",
    "print(string[:])\n",
    "print(string[0:])\n",
    "print(string)"
   ]
  },
  {
   "cell_type": "code",
   "execution_count": 9,
   "metadata": {},
   "outputs": [
    {
     "name": "stdout",
     "output_type": "stream",
     "text": [
      "Let's\n"
     ]
    }
   ],
   "source": [
    "print(string[0:5])"
   ]
  },
  {
   "cell_type": "code",
   "execution_count": 10,
   "metadata": {
    "collapsed": true
   },
   "outputs": [],
   "source": [
    "news='''23일(현지 시각) 아랍에미리트(UAE) 수도 아부다비의 한 교민은 \n",
    "바라카 원전에 대해서 할 말은 많은데 할 수가 없다\"고 했다.'''"
   ]
  },
  {
   "cell_type": "markdown",
   "metadata": {},
   "source": [
    "#### c) Example 1 \n",
    "반복문을 이용하여 문자열 news의 negative_index와 해당 문자을 아래와 같은 형식으로 출력하시오.(len 사용)\n",
    "``` python\n",
    "index : -1, string : 요\n",
    "index : -2, string : 세\n",
    "index : -3, string : 하\n",
    "index : -4, string : 녕\n",
    "index : -5, string : 안\n",
    "```"
   ]
  },
  {
   "cell_type": "markdown",
   "metadata": {},
   "source": [
    "#### d) Example 2\n",
    "아래 문자열에서 ```home```만 출력하시오."
   ]
  },
  {
   "cell_type": "code",
   "execution_count": 141,
   "metadata": {
    "collapsed": true
   },
   "outputs": [],
   "source": [
    "string='Let\\s go home'"
   ]
  },
  {
   "cell_type": "markdown",
   "metadata": {},
   "source": [
    "### d. 문자열 관련 메소드"
   ]
  },
  {
   "cell_type": "markdown",
   "metadata": {},
   "source": [
    "최근에는 텍스트 자료를 처리하는 일이 중요해지고 있다.\n",
    "인터넷에서 수집하는 많은 자료가 텍스트 자료이며 이들을 주제에 따라 분류하거나 다른 언어로 번역하는 일을 생각할 수 있다.\n",
    "파이썬 문자열은 텍스트 자료를 처리하는데 필요한 다양한 메소드를 제공한다.\n",
    "이들 메소드는 [docs.python.org](https://docs.python.org/3/library/string.html)나 [www.programiz.com](https://www.programiz.com/python-programming/methods/string) 사이트를 참고하여 익힐 필요가 있다."
   ]
  },
  {
   "cell_type": "markdown",
   "metadata": {},
   "source": [
    "#### a)대소문자 관련 메소드: `capitalize()`, `upper()`, `lower()`,  `title()`, `isupper()`, `islower()`"
   ]
  },
  {
   "cell_type": "markdown",
   "metadata": {},
   "source": [
    "* capitalize() : 해당 문자열을 첫 문자를 대문자로 변경한 새로운 문자열을 생성한다.\n",
    "* upper(), lower() : 문자열을 대문자, 소문자로 변경한 새로운 문자열을 만들어준다.\n",
    "* title() : 제목 형식의 대소문자로 구별해 문자열을 만들어준다.\n",
    "* isupper(),islower() : 대소문자를 구별하는 문자가 하나 이상 있을 때 전부 대문자인지, 소문자인지를 확인 후 boolean 값을 반환한다."
   ]
  },
  {
   "cell_type": "code",
   "execution_count": 11,
   "metadata": {
    "collapsed": true
   },
   "outputs": [],
   "source": [
    "tmp_str='tOday is sAturday(세미나)'\n",
    "capital_str=tmp_str.capitalize()\n",
    "upper_str=tmp_str.upper()\n",
    "lower_str=tmp_str.lower()\n",
    "title_str=tmp_str.title()"
   ]
  },
  {
   "cell_type": "code",
   "execution_count": 12,
   "metadata": {},
   "outputs": [
    {
     "name": "stdout",
     "output_type": "stream",
     "text": [
      "tOday is sAturday(세미나)\n",
      "Today is saturday(세미나)\n",
      "TODAY IS SATURDAY(세미나)\n",
      "today is saturday(세미나)\n",
      "Today Is Saturday(세미나)\n"
     ]
    }
   ],
   "source": [
    "print(tmp_str)\n",
    "print(capital_str)\n",
    "print(upper_str)\n",
    "print(lower_str)\n",
    "print(title_str)"
   ]
  },
  {
   "cell_type": "markdown",
   "metadata": {},
   "source": [
    "#### b)문자열 정렬과 관련한 메소드: center(), ljust(), rjust()"
   ]
  },
  {
   "cell_type": "code",
   "execution_count": 13,
   "metadata": {},
   "outputs": [
    {
     "name": "stdout",
     "output_type": "stream",
     "text": [
      "Centered String :  **************Today is saturday(세미나)**************\n"
     ]
    }
   ],
   "source": [
    "centered_str=capital_str.center(50,'*')\n",
    "print('Centered String : ',centered_str ) #너비"
   ]
  },
  {
   "cell_type": "markdown",
   "metadata": {},
   "source": [
    "#### c)특정 문자열을 제거하기 위한 메소드: `lstrip()`, `rstrip()`, `strip()`\n",
    "이 메소드들은 문자열 앞과 뒤 또는 양쪽에 나타나는 특정 문자들을 제거한 새로운 문자열을 만들어 준다.\n",
    "제거할 문자 여러 개를 문자열로 주면 이들 중 어떤 문자라도 나타나면 제거한다.\n",
    "제거할 문자가 여러 번 나타나면 모두 제거한다.\n",
    "제거할 문자를 지정하지 않으면 공백문자를 제거한다."
   ]
  },
  {
   "cell_type": "code",
   "execution_count": 14,
   "metadata": {},
   "outputs": [
    {
     "name": "stdout",
     "output_type": "stream",
     "text": [
      "**************Today is saturday(세미나)\n"
     ]
    }
   ],
   "source": [
    "print(centered_str.rstrip('*'))"
   ]
  },
  {
   "cell_type": "markdown",
   "metadata": {},
   "source": [
    "#### d) 문자열 검사를 위한 메소드: `isalpha()`, `isalnum()`,  `isdigit()`, `isspace()`\n",
    "\n",
    "| 메소드 | 설명|\n",
    "|---------|--------|\n",
    "| `isalpha()` | 문자열을 구성하는 모든 문자가 글자인지 검사한다. 한글도 글자로 보며, 빈칸과 숫자는 글자가 아니다. |\n",
    "| `isalnum()` | 문자열을 구성하는 모든 문자가 글자 또는 숫자인지 검사한다. |\n",
    "| `isdigit()` | 문자열을 구성하는 모든 문자가 숫자인지 검사한다. |\n",
    "| `isspace()` | 문자열을 구성하는 모든 문자가 **공백문자**(white space, 빈칸, \\t, \\  n)인지 검사한다. |"
   ]
  },
  {
   "cell_type": "code",
   "execution_count": 15,
   "metadata": {},
   "outputs": [
    {
     "name": "stdout",
     "output_type": "stream",
     "text": [
      "False\n",
      "True\n",
      "False\n",
      "True\n"
     ]
    }
   ],
   "source": [
    "string = '이건 한글 문자와 빈칸 그리고 마침표가 있는 문자열이다.'\n",
    "print(string.isalpha())\n",
    "string = '이건한글문자만있는문자열이다'\n",
    "print(string.isalpha())\n",
    "string = '이건한글문자와3이란숫자가있는문자열이다'\n",
    "print(string.isalpha())\n",
    "print(string.isalnum())"
   ]
  },
  {
   "cell_type": "code",
   "execution_count": 16,
   "metadata": {},
   "outputs": [
    {
     "name": "stdout",
     "output_type": "stream",
     "text": [
      "True\n",
      "False\n",
      "True\n"
     ]
    }
   ],
   "source": [
    "print('     '.isspace())\n",
    "print('12314.22'.isdigit())\n",
    "print('1231422'.isdigit())"
   ]
  },
  {
   "cell_type": "markdown",
   "metadata": {},
   "source": [
    "#### e)검색과 관련한 메소드: count(), find(), rfind(), index(), rindex()\n",
    "* string.<font color='red'>method</font>(검색문자열, start=검색시작위치 end=검색종료할위치 )\n",
    "* find() : 검색문자열이 처음으로 나타나는 인덱스를 반환한다. 문자열 내에 없다면 -1을 반환한다.\n",
    "* rfind() : 검색문자열이 마지막으로 나타나는 인덱스를 반환한다.\n",
    "* count() : 검색문자열이 나타나는 횟수를 반환한다.\n",
    "* index() : find()와 같지만 문자열 내에 없다면 오류가 발생한다,"
   ]
  },
  {
   "cell_type": "code",
   "execution_count": 17,
   "metadata": {},
   "outputs": [
    {
     "name": "stdout",
     "output_type": "stream",
     "text": [
      "-1\n"
     ]
    },
    {
     "ename": "ValueError",
     "evalue": "substring not found",
     "output_type": "error",
     "traceback": [
      "\u001b[1;31m---------------------------------------------------------------------------\u001b[0m",
      "\u001b[1;31mValueError\u001b[0m                                Traceback (most recent call last)",
      "\u001b[1;32m<ipython-input-17-6f2e5eed7643>\u001b[0m in \u001b[0;36m<module>\u001b[1;34m()\u001b[0m\n\u001b[0;32m      1\u001b[0m \u001b[0mstring\u001b[0m \u001b[1;33m=\u001b[0m \u001b[1;34m'Let\\'s go home'\u001b[0m\u001b[1;33m\u001b[0m\u001b[0m\n\u001b[0;32m      2\u001b[0m \u001b[0mprint\u001b[0m\u001b[1;33m(\u001b[0m\u001b[0mstring\u001b[0m\u001b[1;33m.\u001b[0m\u001b[0mfind\u001b[0m\u001b[1;33m(\u001b[0m\u001b[1;34m'집'\u001b[0m\u001b[1;33m)\u001b[0m\u001b[1;33m)\u001b[0m\u001b[1;33m\u001b[0m\u001b[0m\n\u001b[1;32m----> 3\u001b[1;33m \u001b[0mprint\u001b[0m\u001b[1;33m(\u001b[0m\u001b[0mstring\u001b[0m\u001b[1;33m.\u001b[0m\u001b[0mindex\u001b[0m\u001b[1;33m(\u001b[0m\u001b[1;34m'집'\u001b[0m\u001b[1;33m)\u001b[0m\u001b[1;33m)\u001b[0m\u001b[1;33m\u001b[0m\u001b[0m\n\u001b[0m",
      "\u001b[1;31mValueError\u001b[0m: substring not found"
     ]
    }
   ],
   "source": [
    "string = 'Let\\'s go home'\n",
    "print(string.find('집'))\n",
    "print(string.index('집'))"
   ]
  },
  {
   "cell_type": "code",
   "execution_count": 18,
   "metadata": {},
   "outputs": [
    {
     "name": "stdout",
     "output_type": "stream",
     "text": [
      "1\n",
      "12\n",
      "2\n"
     ]
    }
   ],
   "source": [
    "print(string.find('e'))\n",
    "print(string.rfind('e'))\n",
    "print(string.count('e'))"
   ]
  },
  {
   "cell_type": "markdown",
   "metadata": {},
   "source": [
    "#### f) 문자열 결합과 분리를 위한 메소드: `join()`, `split()`, `rsplit()`\n",
    "\n",
    "```python\n",
    "연결문자열.join(자료구조)\n",
    "문자열.split(구분문자열)\n",
    "```\n",
    "\n",
    "`join()` 메소드는 자료구조에 저장된 문자열을 연결하여 하나의 문자열을 만들어 준다.\n",
    "이때 각 문자열 사이에 구분 문자열을 삽입해준다.\n",
    "`split()` 메소드는 문자열에 구분 문자열이 나타날 때마다 잘라서 만든 부분 문자열의 리스트를 반환한다."
   ]
  },
  {
   "cell_type": "code",
   "execution_count": 19,
   "metadata": {},
   "outputs": [
    {
     "name": "stdout",
     "output_type": "stream",
     "text": [
      "23일(현지 시각) 아랍에미리트(UAE) 수도 아부다비의 한 교민은\n",
      "\"바라카 원전에 대해서 할 말은 많은데 할 수가 없다\"고 했다.\n",
      "그는 \"UAE 교민 대부분이 공기업인 한국전력공사가 수주한 원전과 연계된 사업을 하고 있어\n",
      "대사관 눈치를 보지 않을 수 없다\"면서 서둘러 전화를 끊었다.\n",
      "두바이 거주 한 교민은 이날 본지 전화 통화에서\n",
      "\"며칠 전 교민 사회에 '기자가 UAE에 취재하러 왔으니 입조심하라'는\n",
      "말이 카카오톡 등을 통해 확 퍼졌다\"면서\n",
      "\"다른 교민에게 전화해도 별 얘기는 못 들을 것\"이라고 했다.\n",
      "\n"
     ]
    }
   ],
   "source": [
    "news = \"\"\"23일(현지 시각) 아랍에미리트(UAE) 수도 아부다비의 한 교민은\n",
    "\"바라카 원전에 대해서 할 말은 많은데 할 수가 없다\"고 했다.\n",
    "그는 \"UAE 교민 대부분이 공기업인 한국전력공사가 수주한 원전과 연계된 사업을 하고 있어\n",
    "대사관 눈치를 보지 않을 수 없다\"면서 서둘러 전화를 끊었다.\n",
    "두바이 거주 한 교민은 이날 본지 전화 통화에서\n",
    "\"며칠 전 교민 사회에 '기자가 UAE에 취재하러 왔으니 입조심하라'는\n",
    "말이 카카오톡 등을 통해 확 퍼졌다\"면서\n",
    "\"다른 교민에게 전화해도 별 얘기는 못 들을 것\"이라고 했다.\n",
    "\"\"\"\n",
    "print(news)"
   ]
  },
  {
   "cell_type": "code",
   "execution_count": 20,
   "metadata": {},
   "outputs": [
    {
     "name": "stdout",
     "output_type": "stream",
     "text": [
      "['23일(현지 시각) 아랍에미리트(UAE) 수도 아부다비의 한 교민은', '\"바라카 원전에 대해서 할 말은 많은데 할 수가 없다\"고 했다.', '그는 \"UAE 교민 대부분이 공기업인 한국전력공사가 수주한 원전과 연계된 사업을 하고 있어', '대사관 눈치를 보지 않을 수 없다\"면서 서둘러 전화를 끊었다.', '두바이 거주 한 교민은 이날 본지 전화 통화에서', '\"며칠 전 교민 사회에 \\'기자가 UAE에 취재하러 왔으니 입조심하라\\'는', '말이 카카오톡 등을 통해 확 퍼졌다\"면서', '\"다른 교민에게 전화해도 별 얘기는 못 들을 것\"이라고 했다.', '']\n"
     ]
    }
   ],
   "source": [
    "lines=news.split('\\n')\n",
    "print(lines)"
   ]
  },
  {
   "cell_type": "code",
   "execution_count": 21,
   "metadata": {},
   "outputs": [
    {
     "name": "stdout",
     "output_type": "stream",
     "text": [
      "23일(현지 시각) 아랍에미리트(UAE) 수도 아부다비의 한 교민은\"바라카 원전에 대해서 할 말은 많은데 할 수가 없다\"고 했다.그는 \"UAE 교민 대부분이 공기업인 한국전력공사가 수주한 원전과 연계된 사업을 하고 있어대사관 눈치를 보지 않을 수 없다\"면서 서둘러 전화를 끊었다.두바이 거주 한 교민은 이날 본지 전화 통화에서\"며칠 전 교민 사회에 '기자가 UAE에 취재하러 왔으니 입조심하라'는말이 카카오톡 등을 통해 확 퍼졌다\"면서\"다른 교민에게 전화해도 별 얘기는 못 들을 것\"이라고 했다.\n"
     ]
    }
   ],
   "source": [
    "print(''.join(lines))"
   ]
  },
  {
   "cell_type": "code",
   "execution_count": 22,
   "metadata": {},
   "outputs": [
    {
     "name": "stdout",
     "output_type": "stream",
     "text": [
      "23일(현지 시각) 아랍에미리트(UAE) 수도 아부다비의 한 교민은\n",
      "\"바라카 원전에 대해서 할 말은 많은데 할 수가 없다\"고 했다.\n",
      "그는 \"UAE 교민 대부분이 공기업인 한국전력공사가 수주한 원전과 연계된 사업을 하고 있어\n",
      "대사관 눈치를 보지 않을 수 없다\"면서 서둘러 전화를 끊었다.\n",
      "두바이 거주 한 교민은 이날 본지 전화 통화에서\n",
      "\"며칠 전 교민 사회에 '기자가 UAE에 취재하러 왔으니 입조심하라'는\n",
      "말이 카카오톡 등을 통해 확 퍼졌다\"면서\n",
      "\"다른 교민에게 전화해도 별 얘기는 못 들을 것\"이라고 했다.\n",
      "\n"
     ]
    }
   ],
   "source": [
    "print('\\n'.join(lines))"
   ]
  },
  {
   "cell_type": "markdown",
   "metadata": {},
   "source": [
    "#### g) 원하는 특정문자만 변경(=<font color=red> 제거)\n",
    "python에서 문자열이 한번 선언되었을 때 그 문자열 내의 원하는 특정 문자를 지우는 메소드가 없다.\n",
    "하지만 원하는 특정문자만 제거해야하는 경우가 자주 발생하기 때문에 replace()메소드를 사용하면 이를 해결할 수 있다."
   ]
  },
  {
   "cell_type": "code",
   "execution_count": 23,
   "metadata": {
    "collapsed": true
   },
   "outputs": [],
   "source": [
    "string='This is Example 1'"
   ]
  },
  {
   "cell_type": "code",
   "execution_count": 24,
   "metadata": {},
   "outputs": [
    {
     "data": {
      "text/plain": [
       "'That is Example 1'"
      ]
     },
     "execution_count": 24,
     "metadata": {},
     "output_type": "execute_result"
    }
   ],
   "source": [
    "string.replace('This','That')"
   ]
  },
  {
   "cell_type": "code",
   "execution_count": 25,
   "metadata": {},
   "outputs": [
    {
     "data": {
      "text/plain": [
       "'This is Example '"
      ]
     },
     "execution_count": 25,
     "metadata": {},
     "output_type": "execute_result"
    }
   ],
   "source": [
    "string.replace('1','')"
   ]
  },
  {
   "cell_type": "markdown",
   "metadata": {},
   "source": [
    "## 2) 리스트"
   ]
  },
  {
   "cell_type": "markdown",
   "metadata": {},
   "source": [
    "python에서 가장 기본적이고 자주 사용하는 자료구조로 for문과 함께 사용하면 더욱 활용도가 높은 자료구조이다.[], 대괄호로 감싸며 문자열과 같이 인덱스와 슬라이싱 모두 가능하고, count(),index() 등 문자열이 가진 메소드에 추가적인 메소드가 다양하게 구현되어 있어 상당히 편리하다."
   ]
  },
  {
   "cell_type": "code",
   "execution_count": 26,
   "metadata": {
    "collapsed": true
   },
   "outputs": [],
   "source": [
    "tmp_list=['a',123,[1,2,3],(1,5),{3,4},{'나이':20}]"
   ]
  },
  {
   "cell_type": "code",
   "execution_count": 27,
   "metadata": {},
   "outputs": [
    {
     "name": "stdout",
     "output_type": "stream",
     "text": [
      "index : 0 , value : a\n",
      "index : 1 , value : 123\n",
      "index : 2 , value : [1, 2, 3]\n",
      "index : 3 , value : (1, 5)\n",
      "index : 4 , value : {3, 4}\n",
      "index : 5 , value : {'나이': 20}\n"
     ]
    }
   ],
   "source": [
    "for index, value in enumerate(tmp_list):\n",
    "    print('index : {} , value : {}'.format(index,value))"
   ]
  },
  {
   "cell_type": "code",
   "execution_count": 28,
   "metadata": {},
   "outputs": [
    {
     "name": "stdout",
     "output_type": "stream",
     "text": [
      "[0, 1, 2, 3, 4]\n"
     ]
    }
   ],
   "source": [
    "print(list(range(0,5)))"
   ]
  },
  {
   "cell_type": "markdown",
   "metadata": {},
   "source": [
    "### a. append() 함수\n",
    "가장 기본적으로 list에 값을 추가하는 방법으로 가장 마지막(index=-1) 자리에 추가된다."
   ]
  },
  {
   "cell_type": "code",
   "execution_count": 29,
   "metadata": {
    "scrolled": true
   },
   "outputs": [
    {
     "data": {
      "text/plain": [
       "['a', 123, [1, 2, 3], (1, 5), {3, 4}, {'나이': 20}, 'index=-1']"
      ]
     },
     "execution_count": 29,
     "metadata": {},
     "output_type": "execute_result"
    }
   ],
   "source": [
    "tmp_list.append('index=-1')\n",
    "tmp_list"
   ]
  },
  {
   "cell_type": "markdown",
   "metadata": {},
   "source": [
    "### b. insert(), remove(), copy(), sort()\n",
    "* insert() : 기본적으로 append()와 추가(삽입)이라는 개념은 같지만 원하는 위치(인덱스)에 값을 넣을 수 있다.\n",
    "* remove() : 특정 값을 삭제할 수 있다.\n",
    "* copy() : 복사본을 만들어주는 메소드로 특별한 인자가 없다.\n",
    "- sort() : 리스트의 저장된 값을 크기 순으로 정렬할 떄 사용한다. 새로운 리스트를 만들지 않고 원본 자체가 변함으로 주의하여야한다. default 값은 오름차순이며 내림차순으로 정렬하고자 할 때는 `list.sort(reverse=Ture)`로 사용한다. sort()메소드를 사용할 때는 반드시 같은 자료형의 값만 들어 있어야한다."
   ]
  },
  {
   "cell_type": "code",
   "execution_count": 30,
   "metadata": {},
   "outputs": [
    {
     "name": "stdout",
     "output_type": "stream",
     "text": [
      "['a', 123, [1, 2, 3], (1, 5), {3, 4}, {'나이': 20}, 'index=-1']\n"
     ]
    }
   ],
   "source": [
    "ex_list=tmp_list.copy()\n",
    "print(ex_list)"
   ]
  },
  {
   "cell_type": "code",
   "execution_count": 31,
   "metadata": {},
   "outputs": [
    {
     "name": "stdout",
     "output_type": "stream",
     "text": [
      "['a', 123, [1, 2, 3], (1, 5), {3, 4}, {'나이': 20}, 'index=-1']\n",
      "['a', 123, [1, 2, 3], (1, 5), {3, 4}, {'나이': 20}]\n"
     ]
    }
   ],
   "source": [
    "tmp_list.remove('index=-1')\n",
    "print(ex_list)\n",
    "print(tmp_list)"
   ]
  },
  {
   "cell_type": "code",
   "execution_count": 32,
   "metadata": {},
   "outputs": [
    {
     "name": "stdout",
     "output_type": "stream",
     "text": [
      "['a', 123, [1, 2, 3], 'insert', (1, 5), {3, 4}, {'나이': 20}, 'index=-1']\n"
     ]
    }
   ],
   "source": [
    "ex_list.insert(3,'insert')\n",
    "print(ex_list)"
   ]
  },
  {
   "cell_type": "code",
   "execution_count": 33,
   "metadata": {},
   "outputs": [
    {
     "data": {
      "text/plain": [
       "[1, 2, 3, 4, 5]"
      ]
     },
     "execution_count": 33,
     "metadata": {},
     "output_type": "execute_result"
    }
   ],
   "source": [
    "sort_list=[4,5,1,2,3]\n",
    "copy_sort_list=sort_list.copy()\n",
    "copy_sort_list.sort()\n",
    "copy_sort_list"
   ]
  },
  {
   "cell_type": "code",
   "execution_count": 34,
   "metadata": {},
   "outputs": [
    {
     "data": {
      "text/plain": [
       "[5, 4, 3, 2, 1]"
      ]
     },
     "execution_count": 34,
     "metadata": {},
     "output_type": "execute_result"
    }
   ],
   "source": [
    "sort_list=[4,5,1,2,3]\n",
    "copy_sort_list=sort_list.copy()\n",
    "copy_sort_list.sort(reverse=True)\n",
    "copy_sort_list"
   ]
  },
  {
   "cell_type": "markdown",
   "metadata": {},
   "source": [
    "### c.unpacking\n",
    "\n",
    "리스트에 저장된 여러 개의 값을 한 번에 여러 개의 변수에 나누어 저장하는 것을 `unpacking`이라고 한다.\n",
    "기본적으로 리스트에 저장된 값의 수만큼의 변수에 저장할 수 있다."
   ]
  },
  {
   "cell_type": "code",
   "execution_count": 35,
   "metadata": {},
   "outputs": [
    {
     "name": "stdout",
     "output_type": "stream",
     "text": [
      "['a', 123, [1, 2, 3], (1, 5), {3, 4}, {'나이': 20}]\n"
     ]
    }
   ],
   "source": [
    "print(tmp_list)"
   ]
  },
  {
   "cell_type": "code",
   "execution_count": 36,
   "metadata": {
    "collapsed": true
   },
   "outputs": [],
   "source": [
    "tmp_str,tmp_int, tmp_list, tmp_tuple, tmp_set, tmp_dict = tmp_list"
   ]
  },
  {
   "cell_type": "code",
   "execution_count": 37,
   "metadata": {},
   "outputs": [
    {
     "name": "stdout",
     "output_type": "stream",
     "text": [
      "a,123,[1, 2, 3],(1, 5),{3, 4},{'나이': 20}\n"
     ]
    }
   ],
   "source": [
    "print('{},{},{},{},{},{}'.format(tmp_str,tmp_int, tmp_list, tmp_tuple, tmp_set, tmp_dict))"
   ]
  },
  {
   "cell_type": "markdown",
   "metadata": {},
   "source": [
    "### d. 인덱싱, 슬라이싱"
   ]
  },
  {
   "cell_type": "code",
   "execution_count": 38,
   "metadata": {},
   "outputs": [
    {
     "name": "stdout",
     "output_type": "stream",
     "text": [
      "['a', 123, [1, 2, 3], 'insert', (1, 5), {3, 4}, {'나이': 20}, 'index=-1']\n",
      "['a', 123, [1, 2, 3], 'insert', (1, 5), {3, 4}, {'나이': 20}, 'index=-1']\n",
      "[[1, 2, 3], 'insert']\n"
     ]
    }
   ],
   "source": [
    "print(ex_list[:])\n",
    "print(ex_list)\n",
    "print(ex_list[2:4])"
   ]
  },
  {
   "cell_type": "markdown",
   "metadata": {},
   "source": [
    "## <font color=red> 3. Comprehension\n",
    "파이썬에는 `comprehension`이라는 기존하는 자료구조에서 새로운 자료구조를 생성하는 방법이 있다.\n",
    "자료구조에 저장된 각 값을 이용해서 구한 새로운 값을 저장한 새로운 자료구조를 생성할 때 사용하는 방법이다.\n",
    "기본적인 사용법은 다음과 같으며 여기서 `container`는 여러 개의 값을 저장한 자료구조와 같은 객체이며 `elem`은 `container`에 저장된 값 하나를 가리키는 변수이다.\n",
    "\n",
    "```python\n",
    "new_container = [ elem를포함하는표현식 for elem in container ]\n",
    "```\n",
    "\n",
    "실행 결과는 자료구조에 저장된 각 값으로 표현식을 계산한 결과를 저장한 새로운 리스트이다.\n",
    "`comprehension`은 다른 자료구조를 생성할 때도 사용할 수 있는데 `[]` 대신 어떤 괄호를 쓰느냐에 따라 달라진다.\n",
    "위처럼 `[]`를 사용하면 결과는 리스트가 생성되며 `list comprehension`이라고 한다.\n",
    "만약 `{}`를 사용하면 뒤에 배울 셋이나 사전이 생성되는데 이를 `set comprehension`, `dict comprehension`이라고 한다."
   ]
  },
  {
   "cell_type": "code",
   "execution_count": 39,
   "metadata": {},
   "outputs": [
    {
     "name": "stdout",
     "output_type": "stream",
     "text": [
      "[0.0, 1.0, 1.4142135623730951, 1.7320508075688772, 2.0, 2.23606797749979, 2.449489742783178, 2.6457513110645907, 2.8284271247461903, 3.0, 3.1622776601683795]\n"
     ]
    }
   ],
   "source": [
    "from math import sqrt\n",
    "sqrt_list=[sqrt(i) for i in range(11)]\n",
    "print(sqrt_list)"
   ]
  },
  {
   "cell_type": "code",
   "execution_count": 40,
   "metadata": {},
   "outputs": [
    {
     "name": "stdout",
     "output_type": "stream",
     "text": [
      "['a', 123, [1, 2, 3], 'insert', (1, 5), {3, 4}, {'나이': 20}, 'index=-1']\n"
     ]
    }
   ],
   "source": [
    "example_list=[i for i in ex_list]\n",
    "print(example_list)"
   ]
  },
  {
   "cell_type": "code",
   "execution_count": 41,
   "metadata": {
    "collapsed": true
   },
   "outputs": [],
   "source": [
    "import numpy as np\n",
    "from math import exp"
   ]
  },
  {
   "cell_type": "markdown",
   "metadata": {},
   "source": [
    "## 1) Example 1\n",
    "$\\lambda = 2$일 때 $0 \\le x \\le 20$ 구간을 1000 등분한 점에서 함수 $f(x) = 1 - e^{-\\lambda x}$의 값을 계산해 리스트로 넣는 것을 한 줄로 코딩하시오."
   ]
  },
  {
   "cell_type": "code",
   "execution_count": 42,
   "metadata": {
    "collapsed": true
   },
   "outputs": [],
   "source": []
  },
  {
   "cell_type": "markdown",
   "metadata": {},
   "source": [
    "## 2) Example 2\n",
    "앞서 생성한 news 객체를 확인하고 이를 공백으로 쪼개 길이가 3인 문자열만 결과 리스트에 저장하는 것을 한 줄로 코딩하시오 "
   ]
  },
  {
   "cell_type": "code",
   "execution_count": 43,
   "metadata": {
    "collapsed": true
   },
   "outputs": [],
   "source": []
  },
  {
   "cell_type": "markdown",
   "metadata": {},
   "source": [
    "## 3) set\n",
    "값을 저장한 순서가 중요한 리스트나 튜플과 달리 **셋(set)은 값의 순서는 아무런 의미가 없고 값의 중복도 허용하지 않는 자료구조이다.**\n",
    "셋은 **수학적 개념인 집합을 구현한 자료구조라고 할 수 있다.**\n",
    "값이 저장된 순서가 아무런 의미도 없기 때문에 리스트와 튜플에서 사용했던 인덱스와 `[]`연산자를 셋에서는 사용할 수 없다.\n",
    "셋은 `mutable`하기 때문에 새로운 원소를 추가/삭제할 수 있으며, 특정한 값이 집합의 원소인가를 알아 보는 연산, 합집합 연산, 교집합 연산, 차집합 연산 등을 수행하는 메소드와 연산자가 구현되어 있다. `{}`감싸서 생성한다."
   ]
  },
  {
   "cell_type": "markdown",
   "metadata": {},
   "source": [
    "### a. range(start,stop,step) , len() 함수\n",
    "* range 함수는 python에 기본 내장되어있는 범위 내의 숫자를 나타내는 함수로 for 문에 가장 많이 사용하는 함수이다. start와 stop은 범위를 지정하는 매개변수, step은 단계를 나타낸다. start를 생략하면 default값인 0이,step을 생략하면 1이 대입된다.\n",
    "* len 함수 역시 기본 내장 함수로 다양한 자료구조나 자료형의 길이를 출력하는데 사용되는 함수이며, for 문에서도 역시 자주 사용하는 함수이다. "
   ]
  },
  {
   "cell_type": "code",
   "execution_count": 82,
   "metadata": {},
   "outputs": [
    {
     "name": "stdout",
     "output_type": "stream",
     "text": [
      "{'다', '가', '나'}\n",
      "{'다', '가', '나'}\n",
      "<class 'set'>\n"
     ]
    }
   ],
   "source": [
    "A = {'가', '나', '다'}\n",
    "print(A)\n",
    "a = set(['가','나','다'])\n",
    "print(a)\n",
    "print(type(A))"
   ]
  },
  {
   "cell_type": "markdown",
   "metadata": {},
   "source": [
    "셋에 원소 하나를 추가할 때는 `add()` 메소드를 사용하고, 여러 개의 원소를 추가할 때는 추가할 원소의 리스트를 인자로 `update()` 메소드를 호출하면 된다.\n",
    "동일한 값을 여러 번 추가할 수는 있지만 셋은 중복을 허용하지 않기 때문에 한 번만 저장한다."
   ]
  },
  {
   "cell_type": "code",
   "execution_count": 45,
   "metadata": {},
   "outputs": [
    {
     "name": "stdout",
     "output_type": "stream",
     "text": [
      "{'다', '가', '나', '라'}\n",
      "{'가', '나', '마', '다', '라'}\n"
     ]
    }
   ],
   "source": [
    "A.add('라')\n",
    "print(A)\n",
    "A.update(['라', '라', '마', '마'])\n",
    "print(A)"
   ]
  },
  {
   "cell_type": "markdown",
   "metadata": {},
   "source": [
    "특정한 값을 제거하고자 하면 제거할 값을 인자로 `discard()` 또는 `remove()` 메소드를 호출하면 된다.\n",
    "다만 discard()는 셋에 없는 값을 삭제하면 그냥 무시하지만, remove()는 오류가 발생한다."
   ]
  },
  {
   "cell_type": "code",
   "execution_count": 49,
   "metadata": {},
   "outputs": [
    {
     "name": "stdout",
     "output_type": "stream",
     "text": [
      "{'마', '다', '라'}\n"
     ]
    }
   ],
   "source": [
    "A.discard('가')\n",
    "print(A)"
   ]
  },
  {
   "cell_type": "code",
   "execution_count": 50,
   "metadata": {},
   "outputs": [
    {
     "ename": "KeyError",
     "evalue": "'사'",
     "output_type": "error",
     "traceback": [
      "\u001b[1;31m---------------------------------------------------------------------------\u001b[0m",
      "\u001b[1;31mKeyError\u001b[0m                                  Traceback (most recent call last)",
      "\u001b[1;32m<ipython-input-50-46e171b5e610>\u001b[0m in \u001b[0;36m<module>\u001b[1;34m()\u001b[0m\n\u001b[1;32m----> 1\u001b[1;33m \u001b[0mA\u001b[0m\u001b[1;33m.\u001b[0m\u001b[0mremove\u001b[0m\u001b[1;33m(\u001b[0m\u001b[1;34m'사'\u001b[0m\u001b[1;33m)\u001b[0m\u001b[1;33m\u001b[0m\u001b[0m\n\u001b[0m",
      "\u001b[1;31mKeyError\u001b[0m: '사'"
     ]
    }
   ],
   "source": [
    "A.remove('사')"
   ]
  },
  {
   "cell_type": "markdown",
   "metadata": {},
   "source": [
    "특정한 값이 집합의 원소인가를 알아볼 때는 `in` 연산자, 합집합 연산은 `|` 연산자 또는 `union()` 메소드, 교집합 연산은 `&` 연산자 또는 `intersection()` 메소드, 차집합 연산은 `-` 연산자 또는 `difference()` 메소드를 이용하여 수행할 수 있다."
   ]
  },
  {
   "cell_type": "code",
   "execution_count": 52,
   "metadata": {},
   "outputs": [
    {
     "name": "stdout",
     "output_type": "stream",
     "text": [
      "{'마', '다', '라'}\n",
      "{'다', '가', '나'}\n"
     ]
    }
   ],
   "source": [
    "print(A)\n",
    "B = {'가', '나', '다'}\n",
    "print(B)"
   ]
  },
  {
   "cell_type": "code",
   "execution_count": 53,
   "metadata": {},
   "outputs": [
    {
     "name": "stdout",
     "output_type": "stream",
     "text": [
      "False\n",
      "True\n"
     ]
    }
   ],
   "source": [
    "print('가' in A)\n",
    "print('가' not in A)"
   ]
  },
  {
   "cell_type": "code",
   "execution_count": 54,
   "metadata": {},
   "outputs": [
    {
     "name": "stdout",
     "output_type": "stream",
     "text": [
      "{'가', '나', '마', '다', '라'}\n",
      "{'가', '나', '마', '다', '라'}\n"
     ]
    }
   ],
   "source": [
    "AorB = A | B\n",
    "AcupB = A.union(B)\n",
    "print(AorB)\n",
    "print(AcupB)"
   ]
  },
  {
   "cell_type": "code",
   "execution_count": 56,
   "metadata": {},
   "outputs": [
    {
     "name": "stdout",
     "output_type": "stream",
     "text": [
      "{'다'}\n",
      "{'다'}\n"
     ]
    }
   ],
   "source": [
    "AandB = A & B\n",
    "AcapB = A.intersection(B)\n",
    "print(AandB)\n",
    "print(AcapB)"
   ]
  },
  {
   "cell_type": "markdown",
   "metadata": {},
   "source": [
    "## 5. Examples"
   ]
  },
  {
   "cell_type": "markdown",
   "metadata": {},
   "source": [
    "## 1) Example 1 \n",
    "news 문자열 객체에서 문자의 중복을 모두 없앤 후의 값을 리스트에 저장하시오."
   ]
  },
  {
   "cell_type": "markdown",
   "metadata": {},
   "source": [
    "## 2) Example 2 \n",
    "news_strings 객체는 신문기사 하나를 복사해 온 것이다. 아래 프로그램을 작성하시오\n",
    "* 삼성전자 이재용 부회장으로부터 받은 뇌물의 액수를 저장하시오\n",
    "* 총 기소 횟수를 저장하시오.\n",
    "* 부과된 벌금을 저장하시오.\n",
    "* 추징금을 저장하시오.\n",
    "* 아래 형태로 출력하시오.\n",
    "```python \n",
    "박대통령은 삼성으로부터 총 433억원을 받은 혐의 등등으로 총 21개혐의기소, 벌금 180억, 추징금 33억원부과되었다.\n",
    "```"
   ]
  },
  {
   "cell_type": "code",
   "execution_count": 95,
   "metadata": {
    "collapsed": true
   },
   "outputs": [],
   "source": [
    "news_strings='''\n",
    "\n",
    "(서울=연합뉴스) 고동욱 기자 = 20일 박근혜 전 대통령이 국정원 특활비 수수 사건과 옛 새누리당 공천 개입 사건으로 징역형을 선고받음에 따라, 총 21개에 달하는 박 전 대통령의 혐의 전체에 대한 1심 판단이 모두 마무리됐다.\n",
    "\n",
    "삼성의 제3자 뇌물 등 일부를 제외한 대부분 혐의를 유죄로 인정받은 박 전 대통령의 총 형량은 징역 32년에 이른다. 벌금 180억원과 추징금 33억원도 있다.\n",
    "\n",
    "국정농단 관련 사건으로 징역 24년과 벌금 180억원이 먼저 선고됐고 국정원 특활비 수수 사건으로 징역 6년과 추징금 33억원, 옛 새누리당 공천 개입 사건으로 징역 2년이 더해졌다.\n",
    "\n",
    "2016년 10월 '최순실 태블릿PC 보도'로 국정농단 정국이 시작된 이후 1심 판단이 끝나기까지 1년 9개월이 걸렸다.\n",
    "\n",
    "박 전 대통령은 검찰과 특검의 연이은 수사를 거쳐 국정농단 사건과 관련해 18개 혐의로 지난해 4월 구속기소 됐다.\n",
    "\n",
    "'비선실세' 최순실씨와 공모해 미르·K스포츠재단에 대기업들이 출연금을 내도록 한 혐의, 삼성전자 이재용 부회장으로부터 최씨 딸 정유라씨의 승마 지원비 등 433억원 상당의 뇌물을 받거나 요구한 혐의가 우선 적용됐다.\n",
    "\n",
    "그 외에 최씨의 이권을 위해 직권을 남용해 기업에 압력을 넣고, 문화·예술계 지원배제 명단을 작성 관리하도록 하고, 정호성 전 비서관을 시켜 최씨에게 정부 기밀문서를 유출한 혐의 등도 있다.\n",
    "\n",
    "1심 재판부는 대부분 혐의를 유죄로 판단했지만, 삼성그룹의 재단 출연금과 한국동계스포츠영재센터 지원금 등에 적용된 제3자 뇌물수수 혐의는 인정하지 않았다. 정유라씨에 대한 지원금 중 일부도 무죄로 판단했다.\n",
    "\n",
    "검찰은 재판부가 '경영권 승계를 위한 부정한 청탁'의 존재를 인정하지 않은 점에 불복해 항소했다.\n",
    "\n",
    "6월 시작된 국정농단 사건의 항소심 재판은 네 차례 정식 공판을 거쳐 20일 오전 마무리됐다. 검찰은 이날 1심 때와 같은 징역 30년과 벌금 1천185억원을 구형했다.\n",
    "\n",
    "\n",
    "박근혜 '국정원 특활비 상납' 선고 (PG)[제작 최자윤] 사진합성, 일러스트\n",
    "\n",
    "\n",
    "박 전 대통령에 대한 추가 수사는 국정농단 사건 1심 공판이 한창이던 지난해 10월 시작됐다.\n",
    "\n",
    "안봉근·이재만 전 비서관을 체포하고 남재준·이병기 전 국정원장을 대상으로 압수수색을 벌이며 수사의 신호탄을 쏘아 올린 검찰은 박근혜 전 대통령 시절 국정원이 청와대에 수십억원의 특수활동비를 상납한 사실을 밝혀냈다.\n",
    "\n",
    "검찰은 올해 1월 박 전 대통령이 상납받은 국정원 특수활동비에 대해 뇌물과 국고손실 혐의를 적용해 추가 기소했다.\n",
    "\n",
    "2013∼2016년 이재만·안봉근·정호성 전 비서관 등 '문고리 3인방'과 공모해 남재준·이병기·이병호 전 국정원장에게 총 35억원을 수수하고, 이원종 당시 비서실장에게도 1억5천만원을 지원하게 했다는 것이 추가된 혐의의 골자다.\n",
    "\n",
    "수사를 계속한 검찰은 박 전 대통령이 2016년 4·13 총선을 앞두고 당시 여당인 새누리당의 공천에 불법 개입한 혐의도 밝혀내고 2월 재판에 넘겼다.\n",
    "\n",
    "검찰은 당시 청와대가 친박계 인사들을 당선 가능성이 큰 지역구에 공천하기 위해 이른바 '진박 감정용' 불법 여론조사를 한 것으로 파악했다.\n",
    "\n",
    "1심 재판부는 이날 열린 선고 공판에서 국정원 특수활동비와 관련해 국고손실 등 혐의를, 공천 개입과 관련해 공직선거법 위반 혐의를 각각 유죄로 인정했다.\n",
    "\n",
    "다만 국정원 특수활동비를 수수한 것이 뇌물이라는 검찰 주장은 받아들이지 않았다.\n",
    "\n",
    "세 사건으로 박 전 대통령이 받은 혐의는 총 21개다. 이 가운데 1심 단계에서는 19개 혐의가 유죄로 인정됐다.\n",
    "\n",
    "국정농단 사건 중 삼성의 재단 출연금과 한국동계스포츠영재센터 지원금(각각 제3자 뇌물수수) 정도만 1심에서 인정되지 않은 혐의로 꼽힌다.\n",
    "\n",
    "세 사건 총 21개 혐의 기소…벌금 180억원·추징금 33억원 부과되었다.\n",
    "\n",
    "박 전 대통령의 혐의에 대한 판단은 이제 모두 2심으로 넘어가게 된다.\n",
    "\n",
    "가장 가까운 2심 선고는 국정농단 사건으로, 8월 24일 오전에 예정돼 있다.\n",
    "\n",
    "국정원 특활비 사건에 대해서는 1심 법원의 '뇌물 무죄' 판단에 반발하는 검찰이 항소를 공식화했다.\n",
    "\n",
    "검찰 관계자는 선고 직후 \"조윤선·안봉근 등 대통령을 단순 보조하는 비서실 직원이 국정원장으로부터 받은 상대적으로 적은 돈은 뇌물이라면서 대통령 본인이 직접 지휘관계에 있는 국정원장에게 받은 수십억원은 대가성이 없어 뇌물이 아니라는 1심 선고를 수긍하기 어렵다\"며 항소하겠다고 밝혔다.\n",
    "\n",
    "반면 지난해 10월 구속이 연장되자 '재판 보이콧'을 선언한 이후 국정농단 사건도 항소하지 않았던 박 전 대통령은 이번에도 침묵을 지키리라는 분석이 많다.\n",
    "\n",
    "2심이 진행되더라도, 박 전 대통령은 출석하지 않는 '궐석 재판'이 이어질 가능성이 크다.'''\n"
   ]
  },
  {
   "cell_type": "markdown",
   "metadata": {},
   "source": [
    "## 3) Example 3\n",
    "다음은 공공기관 입찰가 선정을 위한 프로그램의 일부이다. 아래 프로그램을 작성하여라.\n",
    "* 기준가격은 50,000,000만원이며, 가격의 범위는 15구간으로 기준가격 * 비율이다.(아래 비율 리스트 사용)\n",
    "* 범위 가격을 저장하는 리스트를 만든다.(comprehension)\n",
    "```python\n",
    "[49000000.0, 최저가\n",
    " 49130000.0, \n",
    " 49265000.0,\n",
    " 49395000.00000001,\n",
    " 49530000.0,\n",
    " 49665000.0,\n",
    " 49795000.0,\n",
    " 49930000.0,\n",
    " 50064999.99999999,\n",
    " 50200000.0,\n",
    " 50330000.0,\n",
    " 50465000.00000001,\n",
    " 50600000.0,\n",
    " 50730000.0,\n",
    " 50865000.00000001,\n",
    " 51000000.0] 최대가\n",
    " ```\n",
    "* 범위마다 하나의 랜덤한 가격을 생성하여 리스트에 저장, 출력 확인한다."
   ]
  },
  {
   "cell_type": "code",
   "execution_count": 66,
   "metadata": {
    "collapsed": true
   },
   "outputs": [],
   "source": [
    "from random import *\n",
    "seed=0\n",
    "std_price=50000000\n",
    "rate_list=[98.00,98.26,98.53,98.79,99.06,99.33,99.59,99.86,100.13,100.40,100.66,100.93,101.20,101.46,101.73,102]"
   ]
  },
  {
   "cell_type": "markdown",
   "metadata": {},
   "source": [
    "## 4) Example 4 \n",
    "Example 3 에 이어 아래 프로그램을 작성하여라.\n",
    "* 모든 기업은 15개의 가격 중 랜덤으로 2개를 뽑아야한다.(numpy 패키지의 choice() 활용, 비복원추출)\n",
    "* 300개의 기업이 입찰에 참여했을 때 모든 기업이 뽑은 가격을 리스트에 저장한다."
   ]
  },
  {
   "cell_type": "code",
   "execution_count": null,
   "metadata": {
    "collapsed": true
   },
   "outputs": [],
   "source": [
    "string='안녕하세요'\n",
    "for index in range(-1,-len(string)-1,-1):\n",
    "    print('index : {}, string : {}'.format(index,string[index]))\n",
    "print(string)"
   ]
  },
  {
   "cell_type": "code",
   "execution_count": 142,
   "metadata": {},
   "outputs": [
    {
     "name": "stdout",
     "output_type": "stream",
     "text": [
      "home\n"
     ]
    }
   ],
   "source": [
    "string='Let\\s go home'\n",
    "print(string[string.find('h'):])"
   ]
  },
  {
   "cell_type": "code",
   "execution_count": null,
   "metadata": {
    "collapsed": true
   },
   "outputs": [],
   "source": [
    "result_list=[1-exp(-2*i) for i in np.arange(0,20,0.02)]"
   ]
  },
  {
   "cell_type": "code",
   "execution_count": null,
   "metadata": {
    "collapsed": true
   },
   "outputs": [],
   "source": [
    "result_list=[i for i in news.split(' ') if len(i)==3]"
   ]
  },
  {
   "cell_type": "code",
   "execution_count": 140,
   "metadata": {
    "collapsed": true
   },
   "outputs": [],
   "source": [
    "result_list=[i for i in list(set(news))]"
   ]
  },
  {
   "cell_type": "code",
   "execution_count": 139,
   "metadata": {},
   "outputs": [
    {
     "name": "stdout",
     "output_type": "stream",
     "text": [
      "박대통령은 삼성으로부터 총 433억원을 받은 혐의 등등으로 총 21개혐의기소, 벌금 180억, 추징금 33억원부과되었다.\n"
     ]
    }
   ],
   "source": [
    "for i in ['\\n',' ','\\\\']:\n",
    "    news_strings=news_strings.replace(i,'')\n",
    "from_samsung=news_strings.split('정유라씨의승마지원비등')[1][:5]\n",
    "indict_num=news_strings.split('세사건총')[1][:7]\n",
    "fine=news_strings.split('벌금')[-1][:4]\n",
    "surcharge=news_strings.split('추징금')[-1][:10]\n",
    "print('박대통령은 삼성으로부터 총 {}을 받은 혐의 등등으로 총 {}, 벌금 {}, 추징금 {}'.format(from_samsung,indict_num,fine,surcharge))"
   ]
  },
  {
   "cell_type": "code",
   "execution_count": null,
   "metadata": {
    "collapsed": true
   },
   "outputs": [],
   "source": [
    "categorical_price_list=[std_price*(i/100) for i in rate_list]\n",
    "random_cp_list=[uniform(categorical_price_list[i],categorical_price_list[i+1]) for i in range(15)]"
   ]
  },
  {
   "cell_type": "code",
   "execution_count": null,
   "metadata": {
    "collapsed": true
   },
   "outputs": [],
   "source": [
    "ran_selected_list=[]\n",
    "for i in range(300):\n",
    "    tmp_list=[i for i in np.random.choice(random_cp_list,2, replace=False)]\n",
    "    for price in tmp_list:\n",
    "        ran_selected_list.append(price)"
   ]
  },
  {
   "cell_type": "code",
   "execution_count": 57,
   "metadata": {},
   "outputs": [
    {
     "name": "stdout",
     "output_type": "stream",
     "text": [
      "index : -1, string : 요\n",
      "index : -2, string : 세\n",
      "index : -3, string : 하\n",
      "index : -4, string : 녕\n",
      "index : -5, string : 안\n",
      "안녕하세요\n"
     ]
    }
   ],
   "source": []
  }
 ],
 "metadata": {
  "kernelspec": {
   "display_name": "Python 3",
   "language": "python",
   "name": "python3"
  },
  "language_info": {
   "codemirror_mode": {
    "name": "ipython",
    "version": 3
   },
   "file_extension": ".py",
   "mimetype": "text/x-python",
   "name": "python",
   "nbconvert_exporter": "python",
   "pygments_lexer": "ipython3",
   "version": "3.6.3"
  }
 },
 "nbformat": 4,
 "nbformat_minor": 2
}
