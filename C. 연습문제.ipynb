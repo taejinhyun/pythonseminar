{
 "cells": [
  {
   "cell_type": "markdown",
   "metadata": {},
   "source": [
    "## 1. 식당 메뉴, 가격 계산 프로그램 작성\n",
    "\n",
    "* 원하는 menu와 가격을 dict로 저장하시오.\n",
    "```python\n",
    "menu={'gimbab'= 5000, 'ramen' = 30000}\n",
    "```\n",
    "* input문으로 메뉴와 수량을 받고 총 가격을 계산하여 반환하는 코드를 작성하시오"
   ]
  },
  {
   "cell_type": "code",
   "execution_count": 2,
   "metadata": {},
   "outputs": [
    {
     "name": "stdout",
     "output_type": "stream",
     "text": [
      "메뉴와 수량을 ramen,2 와 같이 입력하시오3\n"
     ]
    }
   ],
   "source": [
    "order=input('메뉴와 수량을 ramen,2 와 같이 입력하시오')"
   ]
  },
  {
   "cell_type": "markdown",
   "metadata": {},
   "source": [
    "## 2. 로그인 프로그램 작성\n",
    "\n",
    "* input을 반복하여 5개의 id와 비밀번호를 받아 dict에 저장하시오.\n",
    "* while 문으로 다음과 같은 메뉴를 출력하시오.\n",
    "\n",
    "```python\n",
    "1. LOGIN\n",
    "2. FIND PASSWORD\n",
    "3. EXIT\n",
    "```\n",
    "* 3을 누르기 전까지는 무한반복된다.\n",
    "* LOGIN 시 아이디를 물어보고 맞으면 PASSWORD까지 받아 확인한 후 일치하면 `LOGIN!`을 출력한다. ID나 PASSWORD가 틀리면 `없는 ID 혹인 PSWD입니다`를 출력하고 다시 무한루프에 들어간다..\n",
    "* FIND PASSWORD는 아이디를 물어보고 존재하는 아이디라면 비밀번호를 출력해준다."
   ]
  },
  {
   "cell_type": "code",
   "execution_count": null,
   "metadata": {
    "collapsed": true
   },
   "outputs": [],
   "source": []
  }
 ],
 "metadata": {
  "kernelspec": {
   "display_name": "Python 3",
   "language": "python",
   "name": "python3"
  },
  "language_info": {
   "codemirror_mode": {
    "name": "ipython",
    "version": 3
   },
   "file_extension": ".py",
   "mimetype": "text/x-python",
   "name": "python",
   "nbconvert_exporter": "python",
   "pygments_lexer": "ipython3",
   "version": "3.6.3"
  }
 },
 "nbformat": 4,
 "nbformat_minor": 2
}
