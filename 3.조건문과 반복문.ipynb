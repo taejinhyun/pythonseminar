{
 "cells": [
  {
   "cell_type": "markdown",
   "metadata": {},
   "source": [
    "# 3. 조건문과 반복문"
   ]
  },
  {
   "cell_type": "markdown",
   "metadata": {},
   "source": [
    "## 1) 조건문"
   ]
  },
  {
   "cell_type": "markdown",
   "metadata": {},
   "source": [
    "논리값이 결과로 나오는 표현식 즉 조건은 평가 결과가 `True`냐 `False`냐에 따라 다른 계산 또는 일을 하도록 하는 코드를 작성할 때 가장 자주 사용된다.\n",
    "조건에 따라 다른 일을 수행하도록 할 때 사용하는 문장을 조건문(conditional statement)이라 하는데 파이썬의 조건문은 다음과 같이 사용하는 `if` 문장이다.\n",
    "\n",
    "```python\n",
    "if 조건:\n",
    "    조건이 True(False)일 때 실행할 한 줄 이상의 들여쓴 코드\n",
    "else:\n",
    "    조건이 False(True)일 때 실행할 한 줄 이상의 들여쓴 코드\n",
    "```"
   ]
  },
  {
   "cell_type": "markdown",
   "metadata": {},
   "source": [
    "### a. 들여쓰기 (Indent : 들여쓰다 )\n",
    "\n",
    "* 조건문이나 반복문의 조건의 : 다음 줄들을 일정한 간격을 주고 작성하는 것을 말한다.\n",
    "\n",
    "초보자들이나 코드를 통째로 복사하여 사용할 때 빈번히 발생할 수 있는 실수이며 일관되게 들여쓰지 않는다면 오류 또한 매우 찾기 번거로운 실수이다. 조건문, 반복문의 조건 다음 한 줄 이상의 코드는 반드시 들여쓰기를 해야하며, 4칸(**tab**)으로 들여쓰는 것이 관례이다. 아래와 같은 오류는 들여쓰기 오류이므로 조건문, 반복문의 조건 밑의 줄들의 들여쓰기부터 확인해야한다.\n",
    "![Indent](./images/indent.jpg)"
   ]
  },
  {
   "cell_type": "markdown",
   "metadata": {},
   "source": [
    "조건이 False(True) 일 때 아무 일도 하지 않고자 할 때는 다음과 같이 `else` 절을 생략하면 된다.\n",
    "\n",
    "```python\n",
    "if 조건:\n",
    "    조건이 True(False)일 때 실행할 한 줄 이상의 들여쓴 코드\n",
    "```"
   ]
  },
  {
   "cell_type": "markdown",
   "metadata": {},
   "source": [
    "### b. elif "
   ]
  },
  {
   "cell_type": "markdown",
   "metadata": {},
   "source": [
    "여러가지 조건에 따른 실행코드가 필요할 때 사용한다. \n",
    "\n",
    "```python\n",
    "if 조건:\n",
    "    조건이 True(False)일 때 실행할 한 줄 이상의 들여쓴 코드\n",
    "elif 조건:\n",
    "    조건이 False(True)일 때 실행할 한 줄 이상의 들여쓴 코드\n",
    "elif 조건:\n",
    "    조건이 False(True)일 때 실행할 한 줄 이상의 들여쓴 코드\n",
    "else :\n",
    "    아무 조건에도 해당하지 않을 때 실행할 한 줄 이상의 들여쓴 코드\n",
    "```"
   ]
  },
  {
   "cell_type": "markdown",
   "metadata": {},
   "source": [
    "### c. Example 1"
   ]
  },
  {
   "cell_type": "markdown",
   "metadata": {},
   "source": [
    "한 그룹은 나이가 20세 이상이고 월급이 200만원 이상이어야 회원 자격이 있다고 한다. 이 때 나이가 35세이고 월급이 195만원인 사람이 회원 자격이 있는지를 알아보고자 한다. 아래 순서에 따라 알맞은 프로그램을 작성하시오.\n",
    "\n",
    "* 나이 35세, 월급 195만원에 해당하는 객체를 생성 \n",
    "* if문에 알맞은 조건을 작성(논리연산자 사용)\n",
    "* 회원자격이 있으면 '나이 OO세, 월급 OOO만원 회원 자격이 있습니다', 회원자격이 없다면 '나이 OO세, 월급 OOO만원 회원 자격이 없습니다'를 출력\n",
    "* print문과 %s 이용, 객체 이름 작성에 유의할 것\n"
   ]
  },
  {
   "cell_type": "code",
   "execution_count": 1,
   "metadata": {
    "collapsed": true
   },
   "outputs": [],
   "source": [
    "lower_limit_age = 20 # 나이 하한선\n",
    "lower_limit_salary = 2000000 # 월급 상한선"
   ]
  },
  {
   "cell_type": "markdown",
   "metadata": {},
   "source": [
    "### <span style=\"color:red\">d. Import packages\n",
    "python 오픈소스 언어이기 때문에 목적과 편의에 따른 수많은 훌륭한 패키지가 이미 설계되어 있고 내장되어있다.\n",
    "<span style=\"color:red\"> 따라서 프로그래밍 전 알고리즘을 구상해볼 때 무작정 조건문, 반복문을 사용하여 접근하는 것보다 이미 구현되어 있는 패키지를 얼마나 유연하고\n",
    "알맞게 사용하는 가도 중요한 프로그래밍 능력이라고 생각한다. 따라서 우리는 자유롭게 패키지를 검색하고 사용할 수 있는 습관이 베어있어야한다."
   ]
  },
  {
   "cell_type": "code",
   "execution_count": 5,
   "metadata": {
    "collapsed": true
   },
   "outputs": [],
   "source": [
    "import math\n",
    "from math import *\n",
    "from math import pi"
   ]
  },
  {
   "cell_type": "code",
   "execution_count": 6,
   "metadata": {},
   "outputs": [
    {
     "name": "stdout",
     "output_type": "stream",
     "text": [
      "3.141592653589793\n",
      "3.141592653589793\n"
     ]
    }
   ],
   "source": [
    "print(math.pi)\n",
    "print(pi)"
   ]
  },
  {
   "cell_type": "code",
   "execution_count": 8,
   "metadata": {
    "collapsed": true
   },
   "outputs": [],
   "source": [
    "from random import randint"
   ]
  },
  {
   "cell_type": "code",
   "execution_count": 9,
   "metadata": {},
   "outputs": [
    {
     "name": "stdout",
     "output_type": "stream",
     "text": [
      "3\n"
     ]
    }
   ],
   "source": [
    "print(randint(1,5))"
   ]
  },
  {
   "cell_type": "markdown",
   "metadata": {},
   "source": [
    "### e. Example 2"
   ]
  },
  {
   "cell_type": "markdown",
   "metadata": {},
   "source": [
    "math 패키지의 pi객체와 random 패키지의 randint() 함수를 사용하여 랜덤한 원의 면적을 구해 면적이 40보다 큰지 작은지를 계산하는 조건문을 작성하고자한다. 아래 순서에 따라 알맞은 프로그램을 작성하시오.\n",
    "* math 패키지의 pi객체를 불러와 pi라는 이름의 객체에 저장한다. \n",
    "* 반지름 객체를 만들고 random 패키지의 randint() 함수를 사용하여 값을 저장한다.(3~8까지의 수)\n",
    "* 면적 객체를 생성한다.(수식으로 면적을 구해서 저장한다.)\n",
    "* 면적이 40보다 크면 '면적 OO로 면적 40보다 큰 원입니다.', 면적이 40보다 작으므로 '면적 OO로 면적 40보다 작은 원입니다.\n",
    "* print와 %s 사용, 객체이름 작성에 유의할 것"
   ]
  },
  {
   "cell_type": "markdown",
   "metadata": {},
   "source": [
    "## 2) 반복문"
   ]
  },
  {
   "cell_type": "markdown",
   "metadata": {},
   "source": [
    "### a. range(start,stop,step) , len() 함수\n",
    "* range 함수는 python에 기본 내장되어있는 범위 내의 숫자를 나타내는 함수로 for 문에 가장 많이 사용하는 함수이다. start와 stop은 범위를 지정하는 매개변수, step은 단계를 나타낸다. start를 생략하면 default값인 0이,step을 생략하면 1이 대입된다.\n",
    "* len 함수 역시 기본 내장 함수로 다양한 자료구조나 자료형의 길이를 출력하는데 사용되는 함수이며, for 문에서도 역시 자주 사용하는 함수이다. "
   ]
  },
  {
   "cell_type": "code",
   "execution_count": 17,
   "metadata": {},
   "outputs": [
    {
     "name": "stdout",
     "output_type": "stream",
     "text": [
      "1\n",
      "3\n",
      "5\n",
      "7\n",
      "9\n"
     ]
    }
   ],
   "source": [
    "for i in range(1,10,2):\n",
    "    print(i)"
   ]
  },
  {
   "cell_type": "code",
   "execution_count": 21,
   "metadata": {},
   "outputs": [
    {
     "name": "stdout",
     "output_type": "stream",
     "text": [
      "5\n",
      "10\n"
     ]
    }
   ],
   "source": [
    "print(len('안녕하세요'))\n",
    "print(len('1231241241'))"
   ]
  },
  {
   "cell_type": "markdown",
   "metadata": {},
   "source": [
    "### b. Examples"
   ]
  },
  {
   "cell_type": "code",
   "execution_count": 15,
   "metadata": {},
   "outputs": [
    {
     "name": "stdout",
     "output_type": "stream",
     "text": [
      "안녕\n",
      "안녕\n",
      "안녕\n",
      "안녕\n",
      "안녕\n"
     ]
    }
   ],
   "source": [
    "for i in range(5):\n",
    "    print('안녕')"
   ]
  },
  {
   "cell_type": "code",
   "execution_count": 11,
   "metadata": {},
   "outputs": [
    {
     "name": "stdout",
     "output_type": "stream",
     "text": [
      "0\n",
      "1\n",
      "2\n"
     ]
    }
   ],
   "source": [
    "for i in range(3):\n",
    "    print(i)"
   ]
  },
  {
   "cell_type": "code",
   "execution_count": 14,
   "metadata": {},
   "outputs": [
    {
     "name": "stdout",
     "output_type": "stream",
     "text": [
      "I\n",
      " \n",
      "a\n",
      "m\n",
      " \n",
      "S\n",
      "t\n",
      "i\n",
      "r\n",
      "n\n",
      "g\n"
     ]
    }
   ],
   "source": [
    "for i in \"I am Stirng\":\n",
    "    print(i)"
   ]
  },
  {
   "cell_type": "markdown",
   "metadata": {},
   "source": [
    "## 3) While 반복문"
   ]
  },
  {
   "cell_type": "markdown",
   "metadata": {},
   "source": [
    "특정한 조건이 만족할 때만, 만족할 때까지 어떤 일을 반복하고 싶을 때 사용하며 while 문이 for 문보다 편리하다.\n",
    "while문 뒤에 if문과 마찬가지로 조건을 줄 수 있으며 조건이 성립할 때까지 반복된다."
   ]
  },
  {
   "cell_type": "code",
   "execution_count": 23,
   "metadata": {},
   "outputs": [
    {
     "name": "stdout",
     "output_type": "stream",
     "text": [
      "infinite loop\n"
     ]
    }
   ],
   "source": [
    "while True : #무한루프\n",
    "    print('infinite loop')\n",
    "    break"
   ]
  },
  {
   "cell_type": "code",
   "execution_count": 29,
   "metadata": {},
   "outputs": [
    {
     "name": "stdout",
     "output_type": "stream",
     "text": [
      "1\n",
      "2\n",
      "3\n",
      "4\n",
      "5\n",
      "6\n",
      "7\n",
      "8\n",
      "9\n",
      "10\n"
     ]
    }
   ],
   "source": [
    "count_int=0\n",
    "while count_int<10:\n",
    "    count_int+=1\n",
    "    print(count_int)"
   ]
  },
  {
   "cell_type": "markdown",
   "metadata": {},
   "source": [
    "## 4) Example 3 "
   ]
  },
  {
   "cell_type": "markdown",
   "metadata": {},
   "source": [
    "Example 2를 이용하여 아래 문제를 해결하여라.\n",
    "* 3,4,5,6,7,8,9를 반지름으로 가지는 원의 면적을 구하여 출력하여라\n",
    "* for 문 사용"
   ]
  },
  {
   "cell_type": "code",
   "execution_count": 22,
   "metadata": {},
   "outputs": [
    {
     "name": "stdout",
     "output_type": "stream",
     "text": [
      "28.274333882308138\n",
      "50.26548245743669\n",
      "78.53981633974483\n",
      "113.09733552923255\n",
      "153.93804002589985\n",
      "201.06192982974676\n",
      "254.46900494077323\n"
     ]
    }
   ],
   "source": [
    "for r in range(3,10):\n",
    "    area=pi*r**2\n",
    "    print(area)"
   ]
  },
  {
   "cell_type": "markdown",
   "metadata": {},
   "source": [
    "## 5) Example 4"
   ]
  },
  {
   "cell_type": "markdown",
   "metadata": {},
   "source": [
    "다음 순서에 따라 알맞은 프로그램을 작성하시오.\n",
    "* a,b,c 각각을 1~3까지의 랜덤한 숫자를 곱한 후 더하여 문자열 객체를 생성한다.\n",
    "* ex) 'aabccc', 'abbccc'\n",
    "* 반복문을 사용, 문자열 객체를 한 단어 씩 출력한다."
   ]
  },
  {
   "cell_type": "code",
   "execution_count": 32,
   "metadata": {},
   "outputs": [
    {
     "name": "stdout",
     "output_type": "stream",
     "text": [
      "a\n",
      "a\n",
      "a\n",
      "b\n",
      "b\n",
      "b\n",
      "c\n"
     ]
    }
   ],
   "source": [
    "obj_str='a'*randint(1,3)+'b'*randint(1,3)+'c'*randint(1,3)\n",
    "for i in obj_str:\n",
    "    print(i)"
   ]
  },
  {
   "cell_type": "markdown",
   "metadata": {},
   "source": [
    "## 6) Example 5"
   ]
  },
  {
   "cell_type": "markdown",
   "metadata": {},
   "source": [
    "Example 4를 참고하여 다음 순서에 따라 알맞은 프로그램을 작성하시오.\n",
    "* Example 4에서 randint를 사용해 생성한 문자열 객체의 길이를 객체로 저장한다.\n",
    "* while 문을 사용하며 매 반복마다 길이를 저장한 객체에서 1을 뺀 숫자를 출력한다.\n",
    "* 단 while문의 조건에 boolean 값을 사용한다."
   ]
  },
  {
   "cell_type": "code",
   "execution_count": 35,
   "metadata": {},
   "outputs": [
    {
     "name": "stdout",
     "output_type": "stream",
     "text": [
      "6\n",
      "5\n",
      "4\n",
      "3\n",
      "2\n",
      "1\n",
      "0\n"
     ]
    }
   ],
   "source": [
    "count_int=len(obj_str)\n",
    "while count_int != False:\n",
    "    count_int-=1\n",
    "    print(count_int)"
   ]
  },
  {
   "cell_type": "markdown",
   "metadata": {},
   "source": [
    "## 7) Example 6"
   ]
  },
  {
   "cell_type": "markdown",
   "metadata": {},
   "source": [
    "다음 순서에 따라 알맞은 프로그램을 작성하시오.\n",
    "* pi는 math.pi를 사용하며, 반지름은 3~6까지 랜덤한 숫자이다.\n",
    "* 반복문은 10회 반복하며 매 반복마다 랜덤한 반지름과 pi를 이용해 면적을 구한다.\n",
    "* 구한 면적이 100보다 크면 반지름은 6, 75보다 크면 반지름은 5, 50보다 크면 반지름은 4, 그 외에 면적은 반지름이 3이다.\n",
    "* 반복문을 통하여 아래와 같이 결과를 출력하여라.\n",
    "\n",
    "``` python \n",
    "0 번째 radius is 5\n",
    "1 번째 radius is 5\n",
    "2 번째 radius is 6\n",
    "3 번째 radius is 5\n",
    "4 번째 radius is 3\n",
    "5 번째 radius is 3\n",
    "6 번째 radius is 5\n",
    "7 번째 radius is 4\n",
    "8 번째 radius is 6\n",
    "9 번째 radius is 5\n",
    "```"
   ]
  },
  {
   "cell_type": "code",
   "execution_count": 38,
   "metadata": {},
   "outputs": [
    {
     "name": "stdout",
     "output_type": "stream",
     "text": [
      "0 번째 radius is 6\n",
      "1 번째 radius is 5\n",
      "2 번째 radius is 4\n",
      "3 번째 radius is 6\n",
      "4 번째 radius is 6\n",
      "5 번째 radius is 6\n",
      "6 번째 radius is 4\n",
      "7 번째 radius is 3\n",
      "8 번째 radius is 3\n",
      "9 번째 radius is 4\n"
     ]
    }
   ],
   "source": [
    "for i in range(10):\n",
    "    area=pi*randint(3,6)**2\n",
    "    if area >= 100:\n",
    "        print('%s 번째 radius is 6' %i)\n",
    "    elif area >=75:\n",
    "        print('%s 번째 radius is 5' %i)\n",
    "    elif area >= 50 :\n",
    "        print('%s 번째 radius is 4' %i)\n",
    "    else:\n",
    "        print('%s 번째 radius is 3' %i)"
   ]
  },
  {
   "cell_type": "code",
   "execution_count": null,
   "metadata": {
    "collapsed": true
   },
   "outputs": [],
   "source": []
  }
 ],
 "metadata": {
  "kernelspec": {
   "display_name": "Python 3",
   "language": "python",
   "name": "python3"
  },
  "language_info": {
   "codemirror_mode": {
    "name": "ipython",
    "version": 3
   },
   "file_extension": ".py",
   "mimetype": "text/x-python",
   "name": "python",
   "nbconvert_exporter": "python",
   "pygments_lexer": "ipython3",
   "version": "3.6.3"
  }
 },
 "nbformat": 4,
 "nbformat_minor": 2
}
