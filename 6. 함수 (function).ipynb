{
 "cells": [
  {
   "cell_type": "markdown",
   "metadata": {},
   "source": [
    "# 6. 함수(function)\n",
    "\n",
    "다음과 같은 수학 문제를 생각해보자.\n",
    "\n",
    "$a=2$, $b=1$이고 $f(x) = 2x + 3$, $g(x, y) = x^2 + y^2$이다.\n",
    "식 $z = f(a) + f(b) + g(a, b)$를 계산한 결과는 무엇인가?\n",
    "\n",
    "이 문제에서 $f(x) = 2x + 3$, $g(x, y) = x^2 + y^2$는 함수 $f$와 $g$를 정의하는 것이고, $f(a)$, $f(b)$, $g(a, b)$는 정의된 함수를 이용하는 것이다.\n",
    "여기서 다음과 같은 점을 인식해야 한다.\n",
    "\n",
    "* 함수를 이용하기 전에 먼저 정의해야 한다.\n",
    "* 정의된 함수를 이용하는 것을 함수를 **호출(실행, call, invocation)**한다고 한다.\n",
    "* 한 번 정의한 함수는 반복해서 호출할 수 있다.\n",
    "* 함수 $f$를 정의할 때 사용된 변수 $x$와 함수 $g$를 정의할 때 사용된 변수 $x$는 이름이 같지만 서로 다른 변수이다.\n",
    "* 함수의 정의에서 $f$와 $g$를 함수의 이름이며 `()` 속에 기재한 변수를 **매개변수**(parameter)라고 한다.\n",
    "* $f(a)$, $f(b)$, $g(a, b)$는 함수를 호출하는 것이며 호출시 `()` 속에 기재한 것을 **인자**(argument)라고 한다.\n",
    "* 인자와 매개변수는 구별되어야 한다. (인자와 매개변수가 동일한 것을 가리키는지는 프로그래밍 언어에 따라 다르게 구현된다. 파이썬에서는 인자와 매개변수가 동일한 것을 가리키게 구현되어 있다.)\n",
    "* $f(a)$, $f(b)$, $g(a, b)$와 같이 함수를 호출하면, 먼저 인자 $a$, $b$를 매개변수 $x$, $y$에 대응시킨다. 즉, 묵시적으로 `매개변수 = 인자`를 실행한다. 그 다음에 함수의 $2x + 3$, $x^2 + y^2$ 부분이 실행되고, 실행 결과가 함수를 호출한 곳으로 전달된다.\n",
    "따라서 $z = 7 + 5 + 5$가 된다.\n",
    "* 함수의 정의 중에서 $2x + 3$, $x^2 + y^2$ 부분을 함수의 **몸체**(function body)라고 한다.\n",
    "* 매개변수는 함수의 몸체에서 사용된다."
   ]
  },
  {
   "cell_type": "markdown",
   "metadata": {},
   "source": [
    "파이썬에서 함수를 정의하는 방법은 다음과 같다.\n",
    "함수의 몸체는 `:` 다음에 기재한다.\n",
    "`:` 다음에는 항상 들여쓰는 것이 파이썬의 기본 문법이다,\n",
    "\n",
    "```python\n",
    "def 함수이름(쉼표로_구분한_매개변수목록):\n",
    "    들여쓴_한_줄_이상의_함수_몸체\n",
    "    return 호출한_곳에_보낼_결과\n",
    "```\n",
    "\n",
    "매개변수가 없는 함수도 정의할 수 있다.\n",
    "이때는 함수 이름 다음에 `()`만 쓰면 된다.\n",
    "어떤 일을 하지만 호출한 곳에 아무런 결과를 보내지 않는 함수도 정의할 수 있다.\n",
    "이때는 `return` 다음에 `None`을 기재하거나 `return` 문장 자체를 기재하지 않으면 된다."
   ]
  },
  {
   "cell_type": "code",
   "execution_count": 1,
   "metadata": {
    "collapsed": true
   },
   "outputs": [],
   "source": [
    "import math"
   ]
  },
  {
   "cell_type": "code",
   "execution_count": 12,
   "metadata": {
    "collapsed": true
   },
   "outputs": [],
   "source": [
    "def tmp(x,y):\n",
    "    sum_result=x+y\n",
    "    return sum_result"
   ]
  },
  {
   "cell_type": "code",
   "execution_count": 14,
   "metadata": {},
   "outputs": [
    {
     "data": {
      "text/plain": [
       "27"
      ]
     },
     "execution_count": 14,
     "metadata": {},
     "output_type": "execute_result"
    }
   ],
   "source": [
    "tmp(15,12)"
   ]
  },
  {
   "cell_type": "code",
   "execution_count": 15,
   "metadata": {},
   "outputs": [
    {
     "data": {
      "text/plain": [
       "27"
      ]
     },
     "execution_count": 15,
     "metadata": {},
     "output_type": "execute_result"
    }
   ],
   "source": [
    "a=15\n",
    "b=12\n",
    "tmp(a,b)"
   ]
  },
  {
   "cell_type": "code",
   "execution_count": 4,
   "metadata": {},
   "outputs": [
    {
     "ename": "ZeroDivisionError",
     "evalue": "division by zero",
     "output_type": "error",
     "traceback": [
      "\u001b[1;31m---------------------------------------------------------------------------\u001b[0m",
      "\u001b[1;31mZeroDivisionError\u001b[0m                         Traceback (most recent call last)",
      "\u001b[1;32m<ipython-input-4-6de94738d89d>\u001b[0m in \u001b[0;36m<module>\u001b[1;34m()\u001b[0m\n\u001b[1;32m----> 1\u001b[1;33m \u001b[1;36m4\u001b[0m\u001b[1;33m/\u001b[0m\u001b[1;36m0\u001b[0m\u001b[1;33m\u001b[0m\u001b[0m\n\u001b[0m",
      "\u001b[1;31mZeroDivisionError\u001b[0m: division by zero"
     ]
    }
   ],
   "source": [
    "4/0"
   ]
  },
  {
   "cell_type": "code",
   "execution_count": 5,
   "metadata": {
    "collapsed": true
   },
   "outputs": [],
   "source": [
    "def divide(x):\n",
    "    result=x/0\n",
    "    return result"
   ]
  },
  {
   "cell_type": "code",
   "execution_count": 7,
   "metadata": {
    "collapsed": true
   },
   "outputs": [],
   "source": [
    "def divide(x):\n",
    "    result=x/0\n",
    "    return sum_x"
   ]
  },
  {
   "cell_type": "markdown",
   "metadata": {},
   "source": [
    "함수의 이름은 함수가 수행하는 일을 나타내도록 하고, 매개변수 이름은 이 변수가 저장하는 값의 의미를 나타내도록 하는 것이 좋다."
   ]
  },
  {
   "cell_type": "code",
   "execution_count": 11,
   "metadata": {
    "collapsed": true
   },
   "outputs": [],
   "source": [
    "def total_price(price,qantity):\n",
    "    return price * quantity"
   ]
  },
  {
   "cell_type": "markdown",
   "metadata": {},
   "source": [
    "수치계산을 하는 수학 함수와 달리 프로그램에서의 함수는 다양한 일을 수행하도록 정의할 수 있다.\n",
    "\"안녕하세요, \\_\\_\\_\\_씨?\"라는 인사말을 출력하는 함수를 작성해보자.\n",
    "이때 \\_\\_\\_\\_에는 사람 이름이 들어가야 하고 이 이름은 때에 따라 변해야 한다.\n",
    "따라서 사람 이름을 매개변수로 받아서 인사말을 출력하는 함수를 작성하면 되겠다.\n",
    "이 함수가 인사말만 출력하면 된다고 생각하면 다음과 같이 호출하는 쪽에 아무것도 돌려주지 않아도 된다."
   ]
  },
  {
   "cell_type": "code",
   "execution_count": 17,
   "metadata": {
    "collapsed": true
   },
   "outputs": [],
   "source": [
    "def say_hello(name):\n",
    "    greeting = \"안녕하세요, {}씨?\".format(name)\n",
    "    print(greeting)"
   ]
  },
  {
   "cell_type": "code",
   "execution_count": 20,
   "metadata": {},
   "outputs": [
    {
     "name": "stdout",
     "output_type": "stream",
     "text": [
      "안녕하세요, 태진씨?\n"
     ]
    }
   ],
   "source": [
    "greeting=say_hello('태진')\n",
    "greeting"
   ]
  },
  {
   "cell_type": "code",
   "execution_count": 21,
   "metadata": {},
   "outputs": [
    {
     "ename": "AttributeError",
     "evalue": "'NoneType' object has no attribute 'split'",
     "output_type": "error",
     "traceback": [
      "\u001b[1;31m---------------------------------------------------------------------------\u001b[0m",
      "\u001b[1;31mAttributeError\u001b[0m                            Traceback (most recent call last)",
      "\u001b[1;32m<ipython-input-21-d20f32871a14>\u001b[0m in \u001b[0;36m<module>\u001b[1;34m()\u001b[0m\n\u001b[1;32m----> 1\u001b[1;33m \u001b[0mgreeting\u001b[0m\u001b[1;33m.\u001b[0m\u001b[0msplit\u001b[0m\u001b[1;33m(\u001b[0m\u001b[1;34m','\u001b[0m\u001b[1;33m)\u001b[0m\u001b[1;33m\u001b[0m\u001b[0m\n\u001b[0m",
      "\u001b[1;31mAttributeError\u001b[0m: 'NoneType' object has no attribute 'split'"
     ]
    }
   ],
   "source": [
    "greeting.split(',')"
   ]
  },
  {
   "cell_type": "code",
   "execution_count": 22,
   "metadata": {
    "collapsed": true
   },
   "outputs": [],
   "source": [
    "def create_say_hello(name):\n",
    "    greeting = \"안녕하세요, {}씨?\".format(name)\n",
    "    return greeting"
   ]
  },
  {
   "cell_type": "code",
   "execution_count": 23,
   "metadata": {},
   "outputs": [
    {
     "data": {
      "text/plain": [
       "['안녕하세요', ' 태진씨?']"
      ]
     },
     "execution_count": 23,
     "metadata": {},
     "output_type": "execute_result"
    }
   ],
   "source": [
    "greeting=create_say_hello('태진')\n",
    "greeting.split(',')"
   ]
  },
  {
   "cell_type": "markdown",
   "metadata": {},
   "source": [
    "파이썬을 비롯한 대부분의 프로그래밍 언어의 `return` 문장은 하나의 값 또는 객체만 반환할 수 있다.\n",
    "여러 개의 결과를 반환하고 싶으면 반환하고자 하는 결과를 저장한 자료구조 객체를 반환하면 된다.\n",
    "파이썬에서는 `return` 문장에 여러 개의 값이나 객체를 쉼표로 구분하여 나열하면 자동적으로 튜플로 반환된다."
   ]
  },
  {
   "cell_type": "code",
   "execution_count": 24,
   "metadata": {},
   "outputs": [
    {
     "name": "stdout",
     "output_type": "stream",
     "text": [
      "(1, 'testing', ['a', 'b', 'c'])\n"
     ]
    }
   ],
   "source": [
    "def test_fct():\n",
    "    return 1, 'testing', ['a', 'b', 'c']\n",
    "\n",
    "result = test_fct()\n",
    "print(result)"
   ]
  },
  {
   "cell_type": "markdown",
   "metadata": {},
   "source": [
    "## 매개변수의 기본값\n",
    "\n",
    "함수를 정의할 때 매개변수의 기본값(default value)을 지정할 수 있다.\n",
    "함수를 호출할 때 특정 매개변수에 전달할 인자를 지정하지 않으면 그 매개변수의 기본값이 매개변수에 전달된다.\n",
    "따라서 함수를 정의할 때 매개변수의 기본값을 지정하면 이 함수를 여러 가지 방법으로 호출할 수 있게 된다."
   ]
  },
  {
   "cell_type": "markdown",
   "metadata": {},
   "source": [
    "정규분포의 밀도함수를 계산하기 위해 정의한 `normal_pdf()`를 정의해보기로 하자.\n",
    "이 함수를 호출하기 위해서는 밀도를 계산할 $x$, 평균 $\\mu$, 표준편차 $\\sigma$를 인자로 주어야 한다.\n",
    "평균이 0, 표준편차가 1인 표준정규분포의 밀도를 계산하는 경우가 대부분이므로 이 함수를 호출할 때 평균과 표준편차를 인자로 주지 않으면 자동적으로 평균이 0, 표준편차가 1로 전달하게 할 수 있다."
   ]
  },
  {
   "cell_type": "code",
   "execution_count": 32,
   "metadata": {
    "collapsed": true
   },
   "outputs": [],
   "source": [
    "def normal_pdf(x, mu=0, sigma=1):\n",
    "    \"\"\"\n",
    "    x -- 밀도를 계산할 값\n",
    "    mu -- 정규분포의 평균\n",
    "    sigma -- 정규분포의 표준편차\n",
    "    \n",
    "    평균이 mu이고 표준편차가 sigma인 정규분포에서 x에서의 밀도를 계산해준다.\n",
    "    \"\"\"\n",
    "    first = 1. / math.sqrt(2. * math.pi) / sigma\n",
    "    second = math.exp(-math.pow(x-mu, 2) / math.pow(sigma, 2) / 2)\n",
    "    pdf = first * second\n",
    "    return pdf"
   ]
  },
  {
   "cell_type": "code",
   "execution_count": 33,
   "metadata": {},
   "outputs": [
    {
     "data": {
      "text/plain": [
       "0.14956424214925135"
      ]
     },
     "execution_count": 33,
     "metadata": {},
     "output_type": "execute_result"
    }
   ],
   "source": [
    "normal_pdf(1.1, 2, 2.5) "
   ]
  },
  {
   "cell_type": "code",
   "execution_count": 34,
   "metadata": {},
   "outputs": [
    {
     "data": {
      "text/plain": [
       "0.14956424214925135"
      ]
     },
     "execution_count": 34,
     "metadata": {},
     "output_type": "execute_result"
    }
   ],
   "source": [
    "normal_pdf(x=1.1, mu=2, sigma=2.5) "
   ]
  },
  {
   "cell_type": "code",
   "execution_count": 35,
   "metadata": {},
   "outputs": [
    {
     "data": {
      "text/plain": [
       "0.14956424214925135"
      ]
     },
     "execution_count": 35,
     "metadata": {},
     "output_type": "execute_result"
    }
   ],
   "source": [
    "normal_pdf(sigma=2.5,mu=2,x=1.1) "
   ]
  },
  {
   "cell_type": "code",
   "execution_count": 36,
   "metadata": {},
   "outputs": [
    {
     "data": {
      "text/plain": [
       "0.0044318484119380075"
      ]
     },
     "execution_count": 36,
     "metadata": {},
     "output_type": "execute_result"
    }
   ],
   "source": [
    "normal_pdf(3,0,1)"
   ]
  },
  {
   "cell_type": "code",
   "execution_count": 37,
   "metadata": {},
   "outputs": [
    {
     "data": {
      "text/plain": [
       "0.0044318484119380075"
      ]
     },
     "execution_count": 37,
     "metadata": {},
     "output_type": "execute_result"
    }
   ],
   "source": [
    "normal_pdf(3)"
   ]
  },
  {
   "cell_type": "markdown",
   "metadata": {},
   "source": [
    "## 함수의 원형\n",
    "\n",
    "함수를 호출하려면 함수의 이름과 매개변수에 전달할 인자를 알아야 한다.\n",
    "호출하려는 함수가 자신이 작성한 것이면 함수 이름도 알고 있고 매개변수에 어떤 값을 전달해야 하는지도 알고 있으므로 별다른 문제가 없다.\n",
    "하지만 내장함수, 다른 모듈에서 정의한 함수, 다른 모듈에서 정의한 자료형의 메소드를 호출하는 일은 초보자에게 쉬운 일이 아니다.\n",
    "적어도 함수 이름과 매개변수에 대한 정보를 알아야 호출할 수 있다.\n",
    "이런 정보는 함수의 정의에서 몸체를 제외한 부분에 있는데 이를 **함수의 원형**(function prototype)이라 한다.\n",
    "\n",
    "함수를 제대로 이용하려면 함수의 원형과 뿐만 아니라 함수의 기능과 함수가 어떤 실행결과를 돌려주는지에 대해도 알아야 한다."
   ]
  },
  {
   "cell_type": "code",
   "execution_count": 38,
   "metadata": {},
   "outputs": [
    {
     "name": "stdout",
     "output_type": "stream",
     "text": [
      "Help on function normal_pdf in module __main__:\n",
      "\n",
      "normal_pdf(x, mu=0, sigma=1)\n",
      "    x -- 밀도를 계산할 값\n",
      "    mu -- 정규분포의 평균\n",
      "    sigma -- 정규분포의 표준편차\n",
      "    \n",
      "    평균이 mu이고 표준편차가 sigma인 정규분포에서 x에서의 밀도를 계산해준다.\n",
      "\n"
     ]
    }
   ],
   "source": [
    "help(normal_pdf)"
   ]
  },
  {
   "cell_type": "markdown",
   "metadata": {},
   "source": [
    "위와 같이 함수를 정의할 때 함수의 기능, 매개변수, 실행결과에 대해 설명한 문자열을 `docstring`이라고 한다.\n",
    "`docstring`을 작성하면 `help()`함수는 함수의 원형과 함께 `docstring`을 보여준다."
   ]
  },
  {
   "cell_type": "code",
   "execution_count": 41,
   "metadata": {
    "scrolled": true
   },
   "outputs": [
    {
     "name": "stdout",
     "output_type": "stream",
     "text": [
      "Help on built-in function pow in module math:\n",
      "\n",
      "pow(...)\n",
      "    pow(x, y)\n",
      "    \n",
      "    Return x**y (x to the power of y).\n",
      "\n"
     ]
    }
   ],
   "source": [
    "help(math.pow)"
   ]
  },
  {
   "cell_type": "markdown",
   "metadata": {},
   "source": [
    "## 1) Example 1 \n",
    " 문자열을 받으면 한 글자, 한 글자마다 빈도를 구하여 {'오':5} 와 같이 사전으로 저장하는 함수를 작성하고 호출해보시오. "
   ]
  },
  {
   "cell_type": "code",
   "execution_count": 27,
   "metadata": {
    "collapsed": true
   },
   "outputs": [],
   "source": [
    "strings='''프로그램을 작성할 때 함수를 이용하면 어떤 이점이 있는가?\n",
    "함수의 실행이 종료할 때 지역변수나 객체는 어떻게 되는가?\n",
    "statistics.py라는 파이썬 프로그램 파일에 본문에서 정의한 normal_pdf() 함수를 정의했다. 다른 프로그램에서 이 함수를 이용해서  x=1x=1 에서 표준정규분포의 밀도를 구하려면 어떻게 해야 하는가?\n",
    "정수를 매개변수로 받아서 홀수이면 True, 짝수이면 False를 반환하는 is_odd() 함수와 짝수이면 True, 짝수이면 False를 반환하는 is_even() 함수를 정의하고 테스트하시오.\n",
    "섭씨온도(Celsius)를 화씨온도(Fahrenheit)로 변화하는 식은  (1.8×섭씨온도+32)(1.8×섭씨온도+32) 이고, 절대온도(Kelvin)는  (섭씨온도+273.15)(섭씨온도+273.15) 이다. 세 가지 온도를 다른 온도로 변환하는 함수들을 작성하고 테스트하시오.\n",
    "체질량 지수(Body Mass Index, BMI)는 인간의 비만도(degree of obesity)를 나타내는 지수로, 체중과 키의 관계로 계산된다. 키가 t 미터, 체중이 w 킬로그램일 때, BMI는  w/t2w/t2 와 같이 계산한다. 한국의 경우 BMI의 크기에 따라 다음과 같이 비만도를 분류한다. BMI가 35 이상이면 고도 비만, 30 - 35 사이에 있으면 중등도 비만, 25 - 30 사이에 있으면 경도 비만, 23 - 24.9 사이에 있으면 과체중, 18.5 - 22.9 사이이면 정상, 18.5 미만이면 저체중으로 판정하고 있다. 키와 체중을 받아서 비만도를 계산해주는 함수를 작성하시오.\n",
    "혈압은 심장 수축기의 혈압(systolic blood pressure)과 이완기의 혈압(diastolic blood pressure)의 두 측정치로 요약되는데, 휴식시 정상 혈압은 수축시 100~140mmHg에 이완시 60~90mmHg이고, 혈압이 지속적으로 140/90mmHg 이상일 때 고혈압이 있다고 말한다. 수축시 혈압과 이완시 혈압을 받아서 고혈압 여부를 판정하는 함수를 작성하시오.\n",
    "다음과 같이 정의되는 rectified linear function를 구현하는 함수를 작성하시오.'''"
   ]
  },
  {
   "cell_type": "code",
   "execution_count": 28,
   "metadata": {
    "collapsed": true
   },
   "outputs": [],
   "source": [
    "def word_freq(strings):\n",
    "    word_count_dict={key:strings.count(key) for key in set(strings) }\n",
    "    return word_count_dict"
   ]
  },
  {
   "cell_type": "code",
   "execution_count": 29,
   "metadata": {},
   "outputs": [
    {
     "data": {
      "text/plain": [
       "{'\\n': 7,\n",
       " ' ': 196,\n",
       " '(': 14,\n",
       " ')': 14,\n",
       " '+': 4,\n",
       " ',': 14,\n",
       " '-': 4,\n",
       " '.': 21,\n",
       " '/': 3,\n",
       " '0': 9,\n",
       " '1': 11,\n",
       " '2': 11,\n",
       " '3': 9,\n",
       " '4': 3,\n",
       " '5': 7,\n",
       " '6': 1,\n",
       " '7': 2,\n",
       " '8': 4,\n",
       " '9': 4,\n",
       " '=': 2,\n",
       " '?': 3,\n",
       " 'B': 5,\n",
       " 'C': 1,\n",
       " 'F': 3,\n",
       " 'H': 3,\n",
       " 'I': 5,\n",
       " 'K': 1,\n",
       " 'M': 5,\n",
       " 'T': 2,\n",
       " '_': 3,\n",
       " 'a': 8,\n",
       " 'b': 3,\n",
       " 'c': 5,\n",
       " 'd': 10,\n",
       " 'e': 22,\n",
       " 'f': 4,\n",
       " 'g': 4,\n",
       " 'h': 2,\n",
       " 'i': 15,\n",
       " 'l': 10,\n",
       " 'm': 7,\n",
       " 'n': 8,\n",
       " 'o': 12,\n",
       " 'p': 4,\n",
       " 'r': 11,\n",
       " 's': 19,\n",
       " 't': 12,\n",
       " 'u': 6,\n",
       " 'v': 2,\n",
       " 'w': 3,\n",
       " 'x': 3,\n",
       " 'y': 4,\n",
       " '~': 2,\n",
       " '×': 2,\n",
       " '가': 6,\n",
       " '간': 1,\n",
       " '같': 3,\n",
       " '개': 1,\n",
       " '객': 1,\n",
       " '게': 2,\n",
       " '경': 2,\n",
       " '계': 4,\n",
       " '고': 9,\n",
       " '과': 6,\n",
       " '관': 1,\n",
       " '구': 2,\n",
       " '국': 1,\n",
       " '규': 1,\n",
       " '그': 4,\n",
       " '기': 3,\n",
       " '나': 2,\n",
       " '내': 1,\n",
       " '는': 18,\n",
       " '다': 12,\n",
       " '대': 1,\n",
       " '데': 1,\n",
       " '도': 16,\n",
       " '되': 3,\n",
       " '된': 1,\n",
       " '두': 1,\n",
       " '들': 1,\n",
       " '등': 1,\n",
       " '따': 1,\n",
       " '때': 4,\n",
       " '떤': 1,\n",
       " '떻': 2,\n",
       " '라': 2,\n",
       " '램': 4,\n",
       " '량': 1,\n",
       " '려': 1,\n",
       " '로': 12,\n",
       " '료': 1,\n",
       " '류': 1,\n",
       " '른': 2,\n",
       " '를': 18,\n",
       " '만': 7,\n",
       " '말': 1,\n",
       " '매': 1,\n",
       " '면': 12,\n",
       " '문': 1,\n",
       " '미': 2,\n",
       " '밀': 1,\n",
       " '반': 2,\n",
       " '받': 3,\n",
       " '변': 4,\n",
       " '본': 1,\n",
       " '부': 1,\n",
       " '분': 2,\n",
       " '비': 6,\n",
       " '사': 4,\n",
       " '산': 3,\n",
       " '상': 4,\n",
       " '서': 7,\n",
       " '섭': 5,\n",
       " '성': 5,\n",
       " '세': 1,\n",
       " '속': 1,\n",
       " '수': 22,\n",
       " '스': 2,\n",
       " '시': 10,\n",
       " '식': 2,\n",
       " '실': 1,\n",
       " '심': 1,\n",
       " '썬': 1,\n",
       " '씨': 6,\n",
       " '아': 3,\n",
       " '압': 9,\n",
       " '야': 1,\n",
       " '약': 1,\n",
       " '어': 3,\n",
       " '에': 9,\n",
       " '여': 1,\n",
       " '역': 1,\n",
       " '오': 5,\n",
       " '온': 9,\n",
       " '와': 3,\n",
       " '완': 3,\n",
       " '요': 1,\n",
       " '용': 2,\n",
       " '우': 1,\n",
       " '으': 5,\n",
       " '은': 3,\n",
       " '을': 4,\n",
       " '음': 2,\n",
       " '의': 13,\n",
       " '이': 32,\n",
       " '인': 1,\n",
       " '일': 3,\n",
       " '있': 6,\n",
       " '작': 5,\n",
       " '장': 1,\n",
       " '저': 1,\n",
       " '적': 1,\n",
       " '절': 1,\n",
       " '점': 1,\n",
       " '정': 11,\n",
       " '종': 1,\n",
       " '주': 1,\n",
       " '준': 1,\n",
       " '중': 6,\n",
       " '지': 5,\n",
       " '질': 1,\n",
       " '짝': 3,\n",
       " '체': 7,\n",
       " '축': 3,\n",
       " '측': 1,\n",
       " '치': 1,\n",
       " '크': 1,\n",
       " '키': 3,\n",
       " '킬': 1,\n",
       " '타': 1,\n",
       " '터': 1,\n",
       " '테': 2,\n",
       " '트': 2,\n",
       " '파': 2,\n",
       " '판': 2,\n",
       " '포': 1,\n",
       " '표': 1,\n",
       " '프': 3,\n",
       " '하': 17,\n",
       " '한': 5,\n",
       " '할': 2,\n",
       " '함': 10,\n",
       " '해': 3,\n",
       " '했': 1,\n",
       " '행': 1,\n",
       " '현': 1,\n",
       " '혈': 9,\n",
       " '홀': 1,\n",
       " '화': 2,\n",
       " '환': 3,\n",
       " '휴': 1}"
      ]
     },
     "execution_count": 29,
     "metadata": {},
     "output_type": "execute_result"
    }
   ],
   "source": [
    "word_freq(strings)"
   ]
  },
  {
   "cell_type": "markdown",
   "metadata": {},
   "source": [
    "## Example 2\n",
    "$ \\mu=0, \\sigma=1 $인 정규분포에서 발생시킨 20개의 난수 받아 음수면 0, 양수면 1로 변환하는 리스트를 반환하는 함수를 작성하고 호출해보시오. "
   ]
  },
  {
   "cell_type": "code",
   "execution_count": 31,
   "metadata": {
    "collapsed": true
   },
   "outputs": [],
   "source": [
    "import numpy as np "
   ]
  },
  {
   "cell_type": "markdown",
   "metadata": {},
   "source": [
    "## Example 3\n",
    "앞서 작성한 공공기관 입찰 코드를 합하여 기준가격을 넣으면 예정가격을 반환하는 함수를 작성하시오."
   ]
  },
  {
   "cell_type": "code",
   "execution_count": 33,
   "metadata": {
    "collapsed": true
   },
   "outputs": [],
   "source": [
    "from collections import Counter"
   ]
  },
  {
   "cell_type": "markdown",
   "metadata": {},
   "source": [
    "## Example 4\n",
    " 값에 중복이 없고, 문자열인 사전을 넣으면 key와 value를 뒤집은 사전을 반환해주는 함수를 작성하시오.(menu_dic 사용)"
   ]
  },
  {
   "cell_type": "code",
   "execution_count": 37,
   "metadata": {
    "collapsed": true
   },
   "outputs": [],
   "source": [
    "menu_dic={'깁밥':5000,'떡볶이':10000,'튀김':80000}"
   ]
  },
  {
   "cell_type": "markdown",
   "metadata": {},
   "source": [
    "## Example 5 \n",
    "menu_dic를 사용하여 메뉴와 수량으로 주문하면 총 금액이 반환되는 함수를 작성하시오. "
   ]
  },
  {
   "cell_type": "code",
   "execution_count": null,
   "metadata": {
    "collapsed": true
   },
   "outputs": [],
   "source": []
  }
 ],
 "metadata": {
  "kernelspec": {
   "display_name": "Python 3",
   "language": "python",
   "name": "python3"
  },
  "language_info": {
   "codemirror_mode": {
    "name": "ipython",
    "version": 3
   },
   "file_extension": ".py",
   "mimetype": "text/x-python",
   "name": "python",
   "nbconvert_exporter": "python",
   "pygments_lexer": "ipython3",
   "version": "3.6.3"
  }
 },
 "nbformat": 4,
 "nbformat_minor": 2
}
