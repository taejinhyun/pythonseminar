{
 "cells": [
  {
   "cell_type": "markdown",
   "metadata": {},
   "source": [
    "# 1. PYTHON 구현환경 구성 "
   ]
  },
  {
   "cell_type": "markdown",
   "metadata": {},
   "source": [
    "## 파이썬은 ...\n",
    "\n",
    "**파이썬**(Python)은 네덜란드 프로그래머인 **귀도 반 로섬**(Guido van Rossum)이 1991년에 발표한 고급 프로그래밍 언어이다.\n",
    "파이썬은 **플랫폼 독립적**(platform independent)이고며, **객체지향 프로그래밍**(object-oriented programming)과 **동적 타이핑**(dynamic typing)을 지원한다.\n",
    "파이썬이라는 이름은 귀도가 좋아하는 코미디 프로그램 **Monty Python's Flying Circus**에서 따온 것이다"
   ]
  },
  {
   "cell_type": "markdown",
   "metadata": {
    "collapsed": true
   },
   "source": [
    "## 1) 대화식 프로그램 (interactive mode)"
   ]
  },
  {
   "cell_type": "markdown",
   "metadata": {},
   "source": [
    "가장 기본적이고 간단한 사용법으로 환경변수에 python을 등록하면 명령창에서 python, ipython 입력 후 바로 사용이 가능하다.\n",
    "파이썬 종료를 원한다면 **control + z ** 키를 누르면 다시 원래 프롬프트로 넘어간다.\n",
    "저장도 번거로우며, 한줄, 한줄 결과가 바로 나오기 때문에 실제 거의 사용빈도가 없으며 간단한 코드확인정도에 사용하는 경우가 대부분이다.\n",
    "![명령창](./images/cmd.jpg)"
   ]
  },
  {
   "cell_type": "markdown",
   "metadata": {
    "collapsed": true
   },
   "source": [
    "## 2) IDE (Integrated Development Environment ) : 통합개발환경"
   ]
  },
  {
   "cell_type": "markdown",
   "metadata": {},
   "source": [
    "### a. Jupyter notebook"
   ]
  },
  {
   "cell_type": "markdown",
   "metadata": {},
   "source": [
    "파이썬 프로그램과 실행 결과를 포함하는 문서를 작성하고 배포하려면 **쥬피터 노트북**(Jupyter Notebook)을 사용하는 것이 바람직하다.\n",
    "쥬피터 노트북은 웹 환경에서 문서를 작성하고 프로그래밍을 동시에 할 수 있는 환경을 제공한다.\n",
    "뿐만 아니라 쥬피터 노트북을 `LaTeX`, `HTML`, `PDF` 등의 파일로 변환할 수 도 있다."
   ]
  },
  {
   "cell_type": "markdown",
   "metadata": {},
   "source": [
    "또한 쥬피터 노트북에서 문서를 작성할 때는 **마크다운**(markdown)이라는 간단한 **마크업**(markup) 언어를 사용한다.\n",
    "이는 `LATEX`와 동일한 문법이며 마크다운 사용법은 [Markdown Cheatsheet](https://github.com/adam-p/markdown-here/wiki/Markdown-Cheatsheet)를 참고하기 바란다."
   ]
  },
  {
   "cell_type": "markdown",
   "metadata": {},
   "source": [
    "실행 방법은 jupyter notebook 바로가기를 실행할 수도 있고 명령창에서 jupyter notebook으로 접근할 수도 있지만 한 디렉토리에서 모든 작업을 하는 경우가 아닌 이상, **개인적으로 명령창에서 작업할 디렉토리에 먼저 접근한 다음, jupyter notebook을 실행하는 것을 권장한다. **"
   ]
  },
  {
   "cell_type": "markdown",
   "metadata": {},
   "source": [
    "![명령창](./images/change_directory.png)"
   ]
  },
  {
   "cell_type": "markdown",
   "metadata": {},
   "source": [
    "작업할 디렉토리를 복사한 후 명령창의 cd 명령어를 이용해 디렉토리를 변경한 후 jupyter notebook을 실행한다.\n",
    "![명령창](./images/jn.jpg)"
   ]
  },
  {
   "cell_type": "markdown",
   "metadata": {},
   "source": [
    "### b. Spyder"
   ]
  },
  {
   "cell_type": "markdown",
   "metadata": {},
   "source": [
    "`Anaconda` 설치화 함께 제공되는 IDE로 다양한 기능을 갖춘 편리한 PYTHON 용 IDE이다.\n",
    "![SPYDER](./images/spyder.png)"
   ]
  },
  {
   "cell_type": "markdown",
   "metadata": {},
   "source": [
    "### c. Notepad++, Pycharm, Rodeo, Atom"
   ]
  },
  {
   "cell_type": "markdown",
   "metadata": {},
   "source": [
    "이 외에도 조금 더 user들에게 편리함을 주기위해 다양한 IDE들이 나오고 있고 널리 사용되는 대표적인 IDE들이다.\n",
    "\n",
    "[Top5 python IDE](https://www.datacamp.com/community/tutorials/data-science-python-ide)"
   ]
  },
  {
   "cell_type": "code",
   "execution_count": null,
   "metadata": {
    "collapsed": true
   },
   "outputs": [],
   "source": []
  },
  {
   "cell_type": "code",
   "execution_count": null,
   "metadata": {
    "collapsed": true
   },
   "outputs": [],
   "source": []
  }
 ],
 "metadata": {
  "kernelspec": {
   "display_name": "Python 3",
   "language": "python",
   "name": "python3"
  },
  "language_info": {
   "codemirror_mode": {
    "name": "ipython",
    "version": 3
   },
   "file_extension": ".py",
   "mimetype": "text/x-python",
   "name": "python",
   "nbconvert_exporter": "python",
   "pygments_lexer": "ipython3",
   "version": "3.6.3"
  }
 },
 "nbformat": 4,
 "nbformat_minor": 2
}
