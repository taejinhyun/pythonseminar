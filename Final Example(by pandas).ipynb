{
 "cells": [
  {
   "cell_type": "markdown",
   "metadata": {
    "collapsed": true
   },
   "source": [
    "# Final Example(by pandas)"
   ]
  },
  {
   "cell_type": "markdown",
   "metadata": {},
   "source": [
    "https://movie.daum.net/moviedb/grade?movieId=120166&type=netizen&page=3\n",
    "\n",
    "아래는 간단한 텍스트마이닝을 위한 예제로 html 코드를 파싱해 DAUM 영화의 네티즌 평점, 리뷰를 스크랩하기 위한 코드이다.\n",
    "위 `URL`을 잘 살펴보면 어느부분을 바꿔야 원하는 영화에 대한 결과를 얻을 수 있는 지, 어느정도 양을 얻을 수 있는 지 알 수 있다."
   ]
  },
  {
   "cell_type": "code",
   "execution_count": 92,
   "metadata": {
    "collapsed": true
   },
   "outputs": [],
   "source": [
    "from urllib.request import urlopen\n",
    "from bs4 import BeautifulSoup\n",
    "import pandas as pd"
   ]
  },
  {
   "cell_type": "code",
   "execution_count": 93,
   "metadata": {
    "collapsed": true
   },
   "outputs": [],
   "source": [
    "review_list=[]\n",
    "for n in range(1):\n",
    "    url = 'http://movie.daum.net/moviedb/grade?movieId=120166&type=netizen&page={}'.format(n+1)\n",
    "    \n",
    "    webpage = urlopen(url)\n",
    "    source = BeautifulSoup(webpage,'html.parser',from_encoding='utf-8')    \n",
    "    review_info= source.findAll('div', {'class': 'review_info'})\n",
    "\n",
    "    for review_long in review_info:       \n",
    "        glade = review_long.find('em', {'class': 'emph_grade'}) \n",
    "        glade= glade.get_text().strip()\n",
    "        \n",
    "        review = review_long.find('p', {'class': 'desc_review'})   \n",
    "        comment=review.get_text().strip().replace('\\n','').replace('\\t','').replace('\\r','')\n",
    "        \n",
    "        if comment=='' or comment=='.':\n",
    "            pass\n",
    "        elif 0< int(glade) < 10:\n",
    "            review_list.append((int(glade),comment))\n",
    "\n",
    "reviews_pd=pd.DataFrame(review_list, columns=['grade','comment'])"
   ]
  },
  {
   "cell_type": "code",
   "execution_count": 94,
   "metadata": {},
   "outputs": [
    {
     "data": {
      "text/plain": [
       "[(1, '너무너무 재미없어요 1탄은 재밌게 봐서 당연히 괜찮을 줄 알고 봤는데 내용이 완전 별루예요'),\n",
       " (5, '솔직히5점도아깝고....용가리는  좀  아니지않냐'),\n",
       " (2,\n",
       "  '신과함께 4D로 봤습니다만, 4D로 봤는데도 불구하구 지루하고 너무 재미없네요...교차편집? 오히려 그부분이 극의 흐름을 너무 끊어놔서 몰입에 방해만됐습니다 1편도 유치했는데 2편은 난해하기까지...심각한 영화보기싫어 가족과 봤는데 실망했음')]"
      ]
     },
     "execution_count": 94,
     "metadata": {},
     "output_type": "execute_result"
    }
   ],
   "source": [
    "review_list"
   ]
  },
  {
   "cell_type": "markdown",
   "metadata": {},
   "source": [
    "pandas는 현재 수치 뿐만 아니라 텍스트를 포함한 모든 데이터를 가장 보기 좋고 편리하게, 빠르게 분석, 처리할 수 있는 패키지이며 dataframe은 pandas에서 사용하는 자료형이다. "
   ]
  },
  {
   "cell_type": "code",
   "execution_count": 95,
   "metadata": {},
   "outputs": [
    {
     "data": {
      "text/plain": [
       "(3, 2)"
      ]
     },
     "execution_count": 95,
     "metadata": {},
     "output_type": "execute_result"
    }
   ],
   "source": [
    "reviews_pd.shape"
   ]
  },
  {
   "cell_type": "code",
   "execution_count": 96,
   "metadata": {},
   "outputs": [
    {
     "data": {
      "text/html": [
       "<div>\n",
       "<style>\n",
       "    .dataframe thead tr:only-child th {\n",
       "        text-align: right;\n",
       "    }\n",
       "\n",
       "    .dataframe thead th {\n",
       "        text-align: left;\n",
       "    }\n",
       "\n",
       "    .dataframe tbody tr th {\n",
       "        vertical-align: top;\n",
       "    }\n",
       "</style>\n",
       "<table border=\"1\" class=\"dataframe\">\n",
       "  <thead>\n",
       "    <tr style=\"text-align: right;\">\n",
       "      <th></th>\n",
       "      <th>grade</th>\n",
       "      <th>comment</th>\n",
       "    </tr>\n",
       "  </thead>\n",
       "  <tbody>\n",
       "    <tr>\n",
       "      <th>0</th>\n",
       "      <td>1</td>\n",
       "      <td>너무너무 재미없어요 1탄은 재밌게 봐서 당연히 괜찮을 줄 알고 봤는데 내용이 완전 ...</td>\n",
       "    </tr>\n",
       "    <tr>\n",
       "      <th>1</th>\n",
       "      <td>5</td>\n",
       "      <td>솔직히5점도아깝고....용가리는  좀  아니지않냐</td>\n",
       "    </tr>\n",
       "    <tr>\n",
       "      <th>2</th>\n",
       "      <td>2</td>\n",
       "      <td>신과함께 4D로 봤습니다만, 4D로 봤는데도 불구하구 지루하고 너무 재미없네요......</td>\n",
       "    </tr>\n",
       "  </tbody>\n",
       "</table>\n",
       "</div>"
      ],
      "text/plain": [
       "   grade                                            comment\n",
       "0      1  너무너무 재미없어요 1탄은 재밌게 봐서 당연히 괜찮을 줄 알고 봤는데 내용이 완전 ...\n",
       "1      5                        솔직히5점도아깝고....용가리는  좀  아니지않냐\n",
       "2      2  신과함께 4D로 봤습니다만, 4D로 봤는데도 불구하구 지루하고 너무 재미없네요......"
      ]
     },
     "execution_count": 96,
     "metadata": {},
     "output_type": "execute_result"
    }
   ],
   "source": [
    "reviews_pd.head()"
   ]
  },
  {
   "cell_type": "code",
   "execution_count": 97,
   "metadata": {},
   "outputs": [
    {
     "data": {
      "text/plain": [
       "0    1\n",
       "1    5\n",
       "2    2\n",
       "Name: grade, dtype: int64"
      ]
     },
     "execution_count": 97,
     "metadata": {},
     "output_type": "execute_result"
    }
   ],
   "source": [
    "reviews_pd.grade"
   ]
  },
  {
   "cell_type": "code",
   "execution_count": 98,
   "metadata": {},
   "outputs": [
    {
     "data": {
      "text/plain": [
       "0    너무너무 재미없어요 1탄은 재밌게 봐서 당연히 괜찮을 줄 알고 봤는데 내용이 완전 ...\n",
       "1                          솔직히5점도아깝고....용가리는  좀  아니지않냐\n",
       "2    신과함께 4D로 봤습니다만, 4D로 봤는데도 불구하구 지루하고 너무 재미없네요......\n",
       "Name: comment, dtype: object"
      ]
     },
     "execution_count": 98,
     "metadata": {},
     "output_type": "execute_result"
    }
   ],
   "source": [
    "reviews_pd['comment']"
   ]
  },
  {
   "cell_type": "code",
   "execution_count": 101,
   "metadata": {
    "collapsed": true
   },
   "outputs": [],
   "source": [
    "reviews_pd['test']=[1,2,3]"
   ]
  },
  {
   "cell_type": "code",
   "execution_count": 102,
   "metadata": {},
   "outputs": [
    {
     "data": {
      "text/plain": [
       "(3, 3)"
      ]
     },
     "execution_count": 102,
     "metadata": {},
     "output_type": "execute_result"
    }
   ],
   "source": [
    "reviews_pd.shape"
   ]
  },
  {
   "cell_type": "code",
   "execution_count": 104,
   "metadata": {},
   "outputs": [
    {
     "data": {
      "text/html": [
       "<div>\n",
       "<style>\n",
       "    .dataframe thead tr:only-child th {\n",
       "        text-align: right;\n",
       "    }\n",
       "\n",
       "    .dataframe thead th {\n",
       "        text-align: left;\n",
       "    }\n",
       "\n",
       "    .dataframe tbody tr th {\n",
       "        vertical-align: top;\n",
       "    }\n",
       "</style>\n",
       "<table border=\"1\" class=\"dataframe\">\n",
       "  <thead>\n",
       "    <tr style=\"text-align: right;\">\n",
       "      <th></th>\n",
       "      <th>grade</th>\n",
       "      <th>comment</th>\n",
       "      <th>test</th>\n",
       "    </tr>\n",
       "  </thead>\n",
       "  <tbody>\n",
       "    <tr>\n",
       "      <th>0</th>\n",
       "      <td>1</td>\n",
       "      <td>너무너무 재미없어요 1탄은 재밌게 봐서 당연히 괜찮을 줄 알고 봤는데 내용이 완전 ...</td>\n",
       "      <td>1</td>\n",
       "    </tr>\n",
       "    <tr>\n",
       "      <th>1</th>\n",
       "      <td>5</td>\n",
       "      <td>솔직히5점도아깝고....용가리는  좀  아니지않냐</td>\n",
       "      <td>2</td>\n",
       "    </tr>\n",
       "    <tr>\n",
       "      <th>2</th>\n",
       "      <td>2</td>\n",
       "      <td>신과함께 4D로 봤습니다만, 4D로 봤는데도 불구하구 지루하고 너무 재미없네요......</td>\n",
       "      <td>3</td>\n",
       "    </tr>\n",
       "  </tbody>\n",
       "</table>\n",
       "</div>"
      ],
      "text/plain": [
       "   grade                                            comment  test\n",
       "0      1  너무너무 재미없어요 1탄은 재밌게 봐서 당연히 괜찮을 줄 알고 봤는데 내용이 완전 ...     1\n",
       "1      5                        솔직히5점도아깝고....용가리는  좀  아니지않냐     2\n",
       "2      2  신과함께 4D로 봤습니다만, 4D로 봤는데도 불구하구 지루하고 너무 재미없네요......     3"
      ]
     },
     "execution_count": 104,
     "metadata": {},
     "output_type": "execute_result"
    }
   ],
   "source": [
    "reviews_pd.head()"
   ]
  },
  {
   "cell_type": "code",
   "execution_count": 105,
   "metadata": {},
   "outputs": [
    {
     "data": {
      "text/plain": [
       "0    2\n",
       "1    7\n",
       "2    5\n",
       "dtype: int64"
      ]
     },
     "execution_count": 105,
     "metadata": {},
     "output_type": "execute_result"
    }
   ],
   "source": [
    "reviews_pd.grade+reviews_pd.test"
   ]
  },
  {
   "cell_type": "markdown",
   "metadata": {},
   "source": [
    "## Example \n",
    "위 코드를 이용하여 DaumReview 클래스를 생성하여라.\n",
    "1. movie_id와 page_num 매개변수로 받는다.\n",
    "2. 객체변수로는 movie_id와 page_num, 빈 데이터프레임인 review_df를 가진다.\n",
    "3. get_reviews 함수는 daum 영화 페이지에서 평점과 리뷰를 받아와 객체변수인 review_df에 저장해주며 review_df의 상위 5줄을 반환한다.\n",
    "4. get_grade_avg 함수는 평점의 평균을 소수점 둘째자리에서 반올림하여 반환한다.\n",
    "5. parsing_comment 함수는 comment를 빈칸을 기준으로 분리하여 review_df에 새로운 열 parsing_comment을 만들어 저장한 후 review_df의 상위 5줄을 반환한다."
   ]
  },
  {
   "cell_type": "markdown",
   "metadata": {},
   "source": [
    "## Homework\n",
    "DaumReview 클래스에 다음 함수를 변경, 추가하여라.\n",
    "1. parsing_commet : split()이 아닌 konlpy 패키지를 이용하여 `(단어, 형태소 종류)` 의 형태로 변환하고  review_df의 parsing_comment 내용 또한 변경하여라\n",
    "2. get_neg: neg 파일은 부정적인 단어가 들어가있는 사전이다. neg 파일을 읽고 comment에 부정적인 단어를 검사하여 개수를 구하고 review_df의 neg 열에 저장하여라.\n",
    "3. get_pos: pos 파일은 긍정적인 단어가 들어가있는 사전이다. pos 파일을 읽고 comment에 긍정적인 단어를 검사하여 개수를 구하고 review_df의 pos 열에 저장하여라.\n",
    "\n",
    "주의! knolpy는 java와 jdk설치 등의 사전준비가 필요하다. http://konlpy.org/ko/latest/install/"
   ]
  },
  {
   "cell_type": "code",
   "execution_count": null,
   "metadata": {
    "collapsed": true
   },
   "outputs": [],
   "source": []
  }
 ],
 "metadata": {
  "kernelspec": {
   "display_name": "Python 3",
   "language": "python",
   "name": "python3"
  },
  "language_info": {
   "codemirror_mode": {
    "name": "ipython",
    "version": 3
   },
   "file_extension": ".py",
   "mimetype": "text/x-python",
   "name": "python",
   "nbconvert_exporter": "python",
   "pygments_lexer": "ipython3",
   "version": "3.6.3"
  }
 },
 "nbformat": 4,
 "nbformat_minor": 2
}
