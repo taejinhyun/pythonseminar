{
 "cells": [
  {
   "cell_type": "markdown",
   "metadata": {},
   "source": [
    "### 연습문제\n",
    "\n",
    "0. 리스트를 비롯한 여러 가지 자료구조에 사용할 수 있는 내장 함수에는 `len()`, `sum()`, `min()`, `max()` 외에도  `all()`, `any()`, `sorted()`, `reversed()` 등이 있다. 이들 함수를 사용하는 예제 프로그램을 작성하시오.\n",
    "1. 리스트 자료구조의 `reverse()` 메소드에 대해서 알아보시오.\n",
    "2. 다음 코드의 실행 결과를 예상해보시오.\n",
    "```python\n",
    "a = [1, 2]\n",
    "b = [3, 4, 5]\n",
    "a.append(b)\n",
    "b = b + a\n",
    "```\n",
    "3. 다음은 여러 국가의 일인당 연간 포도주 소비량과 심장병으로 인한 사망율을  측정한 **심장병자료**이다.\n",
    "\n",
    "    * **심장병자료**를 이름이 country, wine, death인 list 객체에 저장하시오.\n",
    "    * 각 list 객체에 저장된 값의 개수를 확인하시오.\n",
    "    * wine, death에 저장된 값의 합, 평균, 편차, 편차 제곱합, 표준편차를 계산하시오.\n",
    "\n",
    "| country | wine | death_rate |\n",
    "|:------ | ----:|----------:|\n",
    "| Australia | 2.5 | 211 |\n",
    "| Austria | 3.9 | 167 |\n",
    "| Belgium/Luxembourg | 2.9 | 131 |\n",
    "| Canada | 2.4 | 191 |\n",
    "| Denmark | 2.9 | 220 |\n",
    "| Finland | 0.8 | 297 |\n",
    "| France | 9.1 | 71 |\n",
    "| Iceland | 0.8 | 211 |\n",
    "| Ireland | 0.7 | 300 |\n",
    "| Italy | 7.9 |  107 |\n",
    "| Netherlands | 1.8 | 167 |\n",
    "| New Zealand | 1.9 | 266 |\n",
    "| Norway | 0.8 | 227 |\n",
    "| Spain | 6.5 | 86 |\n",
    "| Sweden | 1.6 | 207 |\n",
    "| Switzerland | 5.8 | 115 |\n",
    "| United Kingdom | 1.3 | 285 |\n",
    "| United States | 1.2 | 199 |\n",
    "| West Germany | 2.7 | 172 |\n"
   ]
  },
  {
   "cell_type": "markdown",
   "metadata": {},
   "source": [
    "### 대사율 자료"
   ]
  },
  {
   "cell_type": "code",
   "execution_count": 1,
   "metadata": {
    "collapsed": true
   },
   "outputs": [],
   "source": [
    "gender = ['M']*2 + ['F']*4 + ['M'] + ['F']*2 + ['M'] + \\\n",
    "        ['F']*2 + ['M'] + ['F']*4 + ['M']*2\n",
    "weight = [62.0, 62.9, 36.1, 54.6, 48.5, 42.0, 47.4, \\\n",
    "          50.6, 42.0, 48.7, 40.3, 33.1, 51.9, 42.4, \\\n",
    "          34.5, 51.1, 41.2, 51.9, 46.9]\n",
    "metabolic_rate = [1792, 1666, 995, 1425, 1396, 1418, 1362, 1502,\\\n",
    "        1256, 1614, 1189, 913, 1460, 1124, 1052, 1347,\\\n",
    "        1204, 1867, 1439]"
   ]
  },
  {
   "cell_type": "markdown",
   "metadata": {},
   "source": [
    "\n",
    "1. **대사율자료**에대한 아래 분석 요구를 처리하되 가능하면 `comprehension`을 사용하시오.\n",
    "\n",
    "    * 남자(여자)의 체중과 대사율을 추출하여 별도의 리스트에 저장하시오.\n",
    "    * 체중과 대사율의 합, 평균, 편차, 표준편차를 성별로 구하시오.\n",
    "2. **심장병자료**에 대한 아래 분석 요구를 처리하되 가능하면 `comprehension`을 사용하시오.\n",
    "\n",
    "    * 연간 포도주 소비량이 5 이상인 국가의 이름과 사망률을 별도의 리스트에 저장하시오.\n",
    "    * 연간 포도주 소비량이 5 미만인 국가의 이름과 사망률을 별도의 리스트에 저장하시오.\n",
    "    * 연간 포도주 소비량이 5 이상인 국가의 사망률의 합, 평균, 편차, 표준편차를 구하시오.\n",
    "    "
   ]
  }
 ],
 "metadata": {
  "kernelspec": {
   "display_name": "Python 3",
   "language": "python",
   "name": "python3"
  },
  "language_info": {
   "codemirror_mode": {
    "name": "ipython",
    "version": 3
   },
   "file_extension": ".py",
   "mimetype": "text/x-python",
   "name": "python",
   "nbconvert_exporter": "python",
   "pygments_lexer": "ipython3",
   "version": "3.6.3"
  }
 },
 "nbformat": 4,
 "nbformat_minor": 2
}
