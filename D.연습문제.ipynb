{
 "cells": [
  {
   "cell_type": "markdown",
   "metadata": {},
   "source": [
    "## 연습문제\n",
    "\n",
    "1. 프로그램을 작성할 때 함수를 이용하면 어떤 이점이 있는가?\n",
    "2. 함수의 실행이 종료할 때 지역변수나 객체는 어떻게 되는가?\n",
    "3. `statistics.py`라는 파이썬 프로그램 파일에 본문에서 정의한 `normal_pdf()` 함수를 정의했다.\n",
    "다른 프로그램에서 이 함수를 이용해서 $x=1$에서 표준정규분포의 밀도를 구하려면 어떻게 해야 하는가?\n",
    "4. 정수를 매개변수로 받아서 홀수이면 True, 짝수이면 False를 반환하는 is_odd() 함수와 짝수이면 True, 짝수이면 False를 반환하는 is_even() 함수를 정의하고 테스트하시오.\n",
    "5. 섭씨온도(Celsius)를 화씨온도(Fahrenheit)로 변화하는 식은 $\\left( 1.8 \\times 섭씨온도 + 32 \\right)$이고, 절대온도(Kelvin)는 $\\left( 섭씨온도 + 273.15 \\right)$이다. 세 가지 온도를 다른 온도로 변환하는 함수들을 작성하고 테스트하시오.\n",
    "6. 체질량 지수(Body Mass Index, BMI)는 인간의 비만도(degree of obesity)를 나타내는 지수로, 체중과 키의 관계로 계산된다.\n",
    "키가 t 미터, 체중이 w 킬로그램일 때, BMI는 $w / t^2$와 같이 계산한다.\n",
    "한국의 경우 BMI의 크기에 따라 다음과 같이 비만도를 분류한다.\n",
    "BMI가 35 이상이면 고도 비만, 30 - 35 사이에 있으면 중등도 비만, 25 - 30 사이에 있으면 경도 비만, 23 - 24.9 사이에 있으면 과체중, 18.5 - 22.9 사이이면 정상, 18.5 미만이면 저체중으로 판정하고 있다.\n",
    "키와 체중을 받아서 비만도를 계산해주는 함수를 작성하시오.\n",
    "7. 혈압은 심장 수축기의 혈압(systolic blood pressure)과 이완기의 혈압(diastolic blood pressure)의 두 측정치로 요약되는데, 휴식시 정상 혈압은 수축시 100~140mmHg에 이완시 60~90mmHg이고, 혈압이 지속적으로 140/90mmHg 이상일 때 고혈압이 있다고 말한다.\n",
    "수축시 혈압과 이완시 혈압을 받아서 고혈압 여부를 판정하는 함수를 작성하시오.    \n",
    "8. 다음과 같이 정의되는 rectified linear function를 구현하는 함수를 작성하시오.\n",
    "$$f(x) = \\left\\{\n",
    "     \\begin{array}{ll}\n",
    "       x & \\text{if } x \\gt 0 \\\\\n",
    "       0 & \\text{if } x \\le 0\n",
    "     \\end{array}\n",
    "   \\right.\n",
    "$$\n",
    "6. 다음과 같이 정의되는 exponential linear function를 구현하는 함수를 작성하시오.\n",
    "$$\n",
    "f(x) = \\left\\{\n",
    "     \\begin{array}{ll}\n",
    "       x & \\text{if } x \\gt 0 \\\\\n",
    "       \\alpha (e^x - 1) & \\text{if } x \\le 0\n",
    "     \\end{array}\n",
    "   \\right.\n",
    "$$\n",
    "11. `statsmodels.stats.descriptivestats` 모듈에 정의된 [\n",
    "DescrStatsW()](http://www.statsmodels.org/stable/generated/statsmodels.stats.weightstats.DescrStatsW.html#statsmodels.stats.weightstats.DescrStatsW) 함수를 호출하는 여러 가지 방법을 생각해보자.\n",
    "10. `scikit-learn` 패키지의 `neural_network` 모듈에 정의된 [MLPClassifier 클래스의 생성자](http://scikit-learn.org/stable/modules/generated/sklearn.neural_network.MLPClassifier.html#sklearn.neural_network.MLPClassifier)를 호출하는 여러 가지 방법을 생각해보자."
   ]
  },
  {
   "cell_type": "code",
   "execution_count": null,
   "metadata": {
    "collapsed": true
   },
   "outputs": [],
   "source": []
  }
 ],
 "metadata": {
  "kernelspec": {
   "display_name": "Python 3",
   "language": "python",
   "name": "python3"
  },
  "language_info": {
   "codemirror_mode": {
    "name": "ipython",
    "version": 3
   },
   "file_extension": ".py",
   "mimetype": "text/x-python",
   "name": "python",
   "nbconvert_exporter": "python",
   "pygments_lexer": "ipython3",
   "version": "3.6.3"
  }
 },
 "nbformat": 4,
 "nbformat_minor": 2
}
